{
 "cells": [
  {
   "cell_type": "code",
   "execution_count": 1,
   "id": "3a2fc219-d021-4508-abd7-e4d587b09ef0",
   "metadata": {},
   "outputs": [
    {
     "data": {
      "text/markdown": [
       "Following locations can be used : "
      ],
      "text/plain": [
       "<IPython.core.display.Markdown object>"
      ]
     },
     "metadata": {},
     "output_type": "display_data"
    },
    {
     "data": {
      "text/markdown": [
       "`NOTEBOOKS_DIR`, `MANUSCRIPT_DIR`, `CODE_DIR`, `DATA_DIR`"
      ],
      "text/plain": [
       "<IPython.core.display.Markdown object>"
      ]
     },
     "metadata": {},
     "output_type": "display_data"
    },
    {
     "data": {
      "text/markdown": [
       "Following locations can be used : "
      ],
      "text/plain": [
       "<IPython.core.display.Markdown object>"
      ]
     },
     "metadata": {},
     "output_type": "display_data"
    },
    {
     "data": {
      "text/markdown": [
       "`NOTEBOOKS_DIR`, `MANUSCRIPT_DIR`, `CODE_DIR`, `DATA_DIR`"
      ],
      "text/plain": [
       "<IPython.core.display.Markdown object>"
      ]
     },
     "metadata": {},
     "output_type": "display_data"
    },
    {
     "data": {
      "text/markdown": [
       "Use `loadCSVtoDF` to load data into dataframes from folder: `SOME_DATA_DIR/raw/SOME_DATASET/SOME_MARKER/SOME_LAB` "
      ],
      "text/plain": [
       "<IPython.core.display.Markdown object>"
      ]
     },
     "metadata": {},
     "output_type": "display_data"
    }
   ],
   "source": [
    "%run ./DevEnvironment.ipynb\n",
    "%run ./DataLoaders.ipynb"
   ]
  },
  {
   "cell_type": "markdown",
   "id": "ac2dcc5d-2d31-4090-83d4-de81c799bc22",
   "metadata": {},
   "source": [
    "## Pandas settings"
   ]
  },
  {
   "cell_type": "code",
   "execution_count": 2,
   "id": "2ae25ab2-f7d8-4593-9a4a-5ede4d8c7a63",
   "metadata": {},
   "outputs": [],
   "source": [
    "import pandas as pd\n",
    "pd.set_option('display.max_colwidth', 0)\n",
    "pd.set_option('display.max_rows', 200)"
   ]
  },
  {
   "cell_type": "code",
   "execution_count": 3,
   "id": "d51810a1",
   "metadata": {},
   "outputs": [
    {
     "data": {
      "application/javascript": [
       "IPython.OutputArea.prototype._should_scroll = function(lines) {\n",
       "    return false;\n",
       "}\n"
      ],
      "text/plain": [
       "<IPython.core.display.Javascript object>"
      ]
     },
     "metadata": {},
     "output_type": "display_data"
    }
   ],
   "source": [
    "%%javascript\n",
    "IPython.OutputArea.prototype._should_scroll = function(lines) {\n",
    "    return false;\n",
    "}"
   ]
  },
  {
   "cell_type": "code",
   "execution_count": 4,
   "id": "54e5e70d",
   "metadata": {},
   "outputs": [],
   "source": [
    "adnifolder = DATA_DIR + 'ADNI/'\n",
    "datafolder = adnifolder + 'raw/'\n",
    "datasets = ['ADNIMERGE', 'CSF', 'PLASMA', 'PET', 'MRI', 'NEUROPSYCH', 'GDS']"
   ]
  },
  {
   "cell_type": "markdown",
   "id": "2d89c482",
   "metadata": {},
   "source": [
    "## Load all datasets and dictionaries into an object of dataframes"
   ]
  },
  {
   "cell_type": "code",
   "execution_count": 5,
   "id": "b9a776c6",
   "metadata": {
    "scrolled": true
   },
   "outputs": [
    {
     "name": "stdout",
     "output_type": "stream",
     "text": [
      "-----------------------\n",
      "Dataframes are available in the object - dataframes - with keys as [dataset], [marker], [file], [df | dict]\n",
      "\n",
      "E.g : dataframes[\"PLASMA\"][\"ABETA\"][\"FNIH_SHIMADZU_1_GO_2_2021-05-25\"][\"df\"] and \n",
      "dataframes[\"PLASMA\"][\"ABETA\"][\"FNIH_SHIMADZU_1_GO_2_2021-05-25\"][\"dict\"] and \n",
      "\n",
      "If the dataset is of not a specific measure, they are under the marker - ALL\n",
      "E.g : dataframes[\"CSF\"][\"ALL\"][\"LOCALLAB_1_GO_2_3_2022-01-24\"][\"df\"] \n"
     ]
    }
   ],
   "source": [
    "debug = False\n",
    "dataframes = {}\n",
    "for dataset in datasets :\n",
    "    folder = Path(datafolder + dataset + '/')\n",
    "    for x in folder.glob('*') :\n",
    "        loadCSVtoDF(folder, dataframes)\n",
    "    \n",
    "print('-----------------------')\n",
    "print('Dataframes are available in the object - dataframes - with keys as [dataset], [marker], [file], [df | dict]')\n",
    "print()\n",
    "print('E.g : dataframes[\"PLASMA\"][\"ABETA\"][\"FNIH_SHIMADZU_1_GO_2_2021-05-25\"][\"df\"] and ')\n",
    "print('dataframes[\"PLASMA\"][\"ABETA\"][\"FNIH_SHIMADZU_1_GO_2_2021-05-25\"][\"dict\"] and ')\n",
    "print()\n",
    "print('If the dataset is of not a specific measure, they are under the marker - ALL')\n",
    "print('E.g : dataframes[\"CSF\"][\"ALL\"][\"LOCALLAB_1_GO_2_3_2022-01-24\"][\"df\"] ')\n"
   ]
  },
  {
   "cell_type": "code",
   "execution_count": 6,
   "id": "2cfe97b6",
   "metadata": {},
   "outputs": [
    {
     "data": {
      "text/html": [
       "        <script type=\"text/javascript\">\n",
       "        window.PlotlyConfig = {MathJaxConfig: 'local'};\n",
       "        if (window.MathJax && window.MathJax.Hub && window.MathJax.Hub.Config) {window.MathJax.Hub.Config({SVG: {font: \"STIX-Web\"}});}\n",
       "        if (typeof require !== 'undefined') {\n",
       "        require.undef(\"plotly\");\n",
       "        requirejs.config({\n",
       "            paths: {\n",
       "                'plotly': ['https://cdn.plot.ly/plotly-2.14.0.min']\n",
       "            }\n",
       "        });\n",
       "        require(['plotly'], function(Plotly) {\n",
       "            window._Plotly = Plotly;\n",
       "        });\n",
       "        }\n",
       "        </script>\n",
       "        "
      ]
     },
     "metadata": {},
     "output_type": "display_data"
    }
   ],
   "source": [
    "import copy\n",
    "import researchpy as rp\n",
    "import matplotlib.pyplot as plt\n",
    "import plotly.express as px\n",
    "import plotly.subplots as sp\n",
    "from plotly.subplots import make_subplots\n",
    "import plotly.graph_objects as go\n",
    "import cufflinks as cf\n",
    "import statsmodels.api as sm\n",
    "import statsmodels.formula.api as smf\n",
    "from itertools import combinations\n",
    "import seaborn as sns\n",
    "\n",
    "import plotly.offline\n",
    "cf.go_offline()\n",
    "cf.set_config_file(offline=False, world_readable=True)\n",
    "\n",
    "### Exporting dataframes to PPT\n",
    "from pptx import Presentation\n",
    "from pptx.enum.shapes import MSO_SHAPE\n",
    "from pptx.util import Pt, Cm, Inches\n",
    "from pptx.enum.text import PP_ALIGN\n",
    "\n",
    "from pd2ppt import df_to_powerpoint, df_to_table\n",
    "\n",
    "import warnings\n",
    "warnings.filterwarnings('ignore')"
   ]
  },
  {
   "cell_type": "markdown",
   "id": "da619592",
   "metadata": {},
   "source": [
    "### ADNIMERGE"
   ]
  },
  {
   "cell_type": "markdown",
   "id": "4adca306",
   "metadata": {},
   "source": [
    "**ADNIMERGE might be straightforward**"
   ]
  },
  {
   "cell_type": "markdown",
   "id": "15d3fc87",
   "metadata": {},
   "source": [
    "**Check the exact file name of ADNIMERGE-ALL**"
   ]
  },
  {
   "cell_type": "code",
   "execution_count": null,
   "id": "53487c7c",
   "metadata": {},
   "outputs": [],
   "source": [
    "if debug: \n",
    "    for f in dataframes[\"ADNIMERGE\"][\"ALL\"]:\n",
    "        print(f)"
   ]
  },
  {
   "cell_type": "markdown",
   "id": "031bc02a",
   "metadata": {},
   "source": [
    "**Use the above name to create the ADNIMERGE dataframe**"
   ]
  },
  {
   "cell_type": "code",
   "execution_count": null,
   "id": "66465781",
   "metadata": {},
   "outputs": [],
   "source": [
    "ADNIMERGE = dataframes[\"ADNIMERGE\"][\"ALL\"][\"ADNIMERGE_1_GO_2_3_2022-01-24\"][\"df\"]"
   ]
  },
  {
   "cell_type": "code",
   "execution_count": null,
   "id": "03804390",
   "metadata": {},
   "outputs": [],
   "source": [
    "def getRaceEthnicity(row) :\n",
    "    if 'White' == row['PTRACCAT'] :\n",
    "        if 'Hisp/Latino' == row['PTETHCAT'] :\n",
    "            return 'Hispanic White'\n",
    "        else :\n",
    "            return 'Non-hispanic White'\n",
    "    elif 'Black' == row['PTRACCAT'] :\n",
    "        return 'Black or African American'\n",
    "    else : return 'Other'\n",
    "    \n",
    "ADNIMERGE['ETHNICRACE'] = ADNIMERGE.apply(lambda row: getRaceEthnicity(row), axis=1)"
   ]
  },
  {
   "cell_type": "code",
   "execution_count": null,
   "id": "c6588bb0",
   "metadata": {},
   "outputs": [],
   "source": [
    "def monthFromViscode(viscode) :\n",
    "    viscode = viscode.lower()\n",
    "    if 'bl' in viscode:\n",
    "        return 0\n",
    "    elif viscode.startswith('m') :\n",
    "        month = viscode[1:]\n",
    "        return int(month)\n",
    "    else :\n",
    "        return -1\n",
    "\n",
    "ADNIMERGE['VS_MONTH'] = ADNIMERGE.VISCODE.apply(lambda x: monthFromViscode(x))\n"
   ]
  },
  {
   "cell_type": "code",
   "execution_count": null,
   "id": "f733fd7a-0622-4e74-9689-3f1f3dc3d327",
   "metadata": {},
   "outputs": [],
   "source": [
    "px.histogram(ADNIMERGE['VS_MONTH'])"
   ]
  },
  {
   "cell_type": "code",
   "execution_count": 6,
   "id": "51a0fdda-f855-45e8-9d6a-b7eac9ad33c0",
   "metadata": {},
   "outputs": [
    {
     "ename": "NameError",
     "evalue": "name 'ADNIMERGE' is not defined",
     "output_type": "error",
     "traceback": [
      "\u001b[0;31m---------------------------------------------------------------------------\u001b[0m",
      "\u001b[0;31mNameError\u001b[0m                                 Traceback (most recent call last)",
      "Cell \u001b[0;32mIn [6], line 1\u001b[0m\n\u001b[0;32m----> 1\u001b[0m \u001b[43mADNIMERGE\u001b[49m\u001b[38;5;241m.\u001b[39mgroupby([\u001b[38;5;124m\"\u001b[39m\u001b[38;5;124mRID\u001b[39m\u001b[38;5;124m\"\u001b[39m, \u001b[38;5;124m\"\u001b[39m\u001b[38;5;124mVISCODE\u001b[39m\u001b[38;5;124m\"\u001b[39m])\n",
      "\u001b[0;31mNameError\u001b[0m: name 'ADNIMERGE' is not defined"
     ]
    }
   ],
   "source": [
    "ADNIMERGE.groupby([\"RID\", \"VISCODE\"])"
   ]
  },
  {
   "cell_type": "code",
   "execution_count": null,
   "id": "301661b1",
   "metadata": {},
   "outputs": [],
   "source": [
    "def checkDuplicates(df, group_by_cols=[\"RID\", \"VISCODE\"]) :\n",
    "    dupes = df.groupby(group_by_cols)[\"RID\"].count().reset_index(name='count')\n",
    "    return dupes[dupes[\"count\"] > 1]\n"
   ]
  },
  {
   "cell_type": "code",
   "execution_count": null,
   "id": "9207047d",
   "metadata": {
    "scrolled": true
   },
   "outputs": [],
   "source": [
    "if False:\n",
    "    print('--')\n",
    "    print('dataframe for ADNIMERGE : ADNIMERGE')\n",
    "\n",
    "    print('--')\n",
    "    print('use checkDuplicates(df) to find out dupplicate rows for RID, VISCODE combination')"
   ]
  },
  {
   "cell_type": "markdown",
   "id": "ef5cdb24",
   "metadata": {},
   "source": [
    "<a id=\"pet\" />"
   ]
  },
  {
   "cell_type": "markdown",
   "id": "d9c2ae02",
   "metadata": {},
   "source": [
    "### PET"
   ]
  },
  {
   "cell_type": "markdown",
   "id": "a36b7a80",
   "metadata": {},
   "source": [
    "**Available PET Measures**"
   ]
  },
  {
   "cell_type": "code",
   "execution_count": null,
   "id": "16950656",
   "metadata": {
    "scrolled": true
   },
   "outputs": [],
   "source": [
    "if debug:\n",
    "    for k in dataframes[\"PET\"] :\n",
    "        print(k)"
   ]
  },
  {
   "cell_type": "markdown",
   "id": "faca2807",
   "metadata": {},
   "source": [
    "**PET Files with TAU measures**"
   ]
  },
  {
   "cell_type": "markdown",
   "id": "74bc4942",
   "metadata": {},
   "source": [
    "* General goal :\n",
    "    - A master dataset of PET TAU measure from all the available labs\n",
    "* Main fields to be collected\n",
    "    - RID, VISCODE (or VISCODE2)\n",
    "    - \n",
    "    - Some timestamp indicating the sample collection time, depending on the lab"
   ]
  },
  {
   "cell_type": "markdown",
   "id": "9a7878e1",
   "metadata": {},
   "source": [
    "**Examine each lab file and the available fields**"
   ]
  },
  {
   "cell_type": "code",
   "execution_count": null,
   "id": "b42b8a5f",
   "metadata": {
    "scrolled": true
   },
   "outputs": [],
   "source": [
    "if debug:\n",
    "    for k in dataframes[\"PET\"][\"TAU\"] :\n",
    "        print('#lab =\"{}\"'.format(k))\n",
    "        #print(k)"
   ]
  },
  {
   "cell_type": "markdown",
   "id": "f671cc9b",
   "metadata": {},
   "source": [
    "**Check the dictionary where fields are unclear**"
   ]
  },
  {
   "cell_type": "code",
   "execution_count": null,
   "id": "4f86d11e",
   "metadata": {},
   "outputs": [],
   "source": [
    "if debug:\n",
    "    marker = \"PET\"\n",
    "    measure = \"TAU\"\n",
    "    #lab =\"BAI_NMRC_FAV1451_2_3_2020-03-03\"\n",
    "    lab =\"UCB_AV1451_1_GO_2_3_2021-11-16\"\n",
    "    df = dataframes[marker][measure][lab][\"df\"]\n",
    "    print(lab)\n",
    "    print(df.columns)\n",
    "    print(df.info())\n",
    "    dict_unc = dataframes[marker][measure][lab][\"dict\"]\n",
    "    dict_unc[[\"FLDNAME\", \"TEXT\"]]\n",
    "    #df.sample(5)"
   ]
  },
  {
   "cell_type": "markdown",
   "id": "f949c69d",
   "metadata": {},
   "source": [
    "**Collect all PET_TAU datasets in a standardized format**"
   ]
  },
  {
   "cell_type": "code",
   "execution_count": null,
   "id": "8dcf1559",
   "metadata": {},
   "outputs": [],
   "source": [
    "pet_tau = {}"
   ]
  },
  {
   "cell_type": "code",
   "execution_count": null,
   "id": "9e522d8e",
   "metadata": {},
   "outputs": [],
   "source": [
    "pet_tau_columns = [\"RID\", \"VISCODE\", \"PET_SUVR_TAU\", \"update_stamp\", \"source\"]"
   ]
  },
  {
   "cell_type": "markdown",
   "id": "9f3149d6",
   "metadata": {},
   "source": [
    "**UCB_AV1451_1_GO_2_3_2021-11-16**\n",
    " - Composite SUVR values are given according to BRAAK regions - 1,2, 3/4,5/6\n",
    " - Braak Region 1 is Entorihnal Cortex\n",
    " - Braak Region 2 is Left and Right Hioppocampus but it has been mentioned in their methods that this is corrupted and not used in their analyses"
   ]
  },
  {
   "cell_type": "code",
   "execution_count": null,
   "id": "dd1cd3a9",
   "metadata": {},
   "outputs": [],
   "source": [
    "marker = \"PET\"\n",
    "measure = \"TAU\"\n",
    "lab =\"UCB_AV1451_1_GO_2_3_2021-11-16\"\n",
    "df = dataframes[marker][measure][lab][\"df\"]\n",
    "df = df[[\"RID\", \"VISCODE2\", \"BRAAK1_SUVR\", \"update_stamp\"]]\n",
    "df = df.dropna()\n",
    "df[\"source\"] = lab\n",
    "pet_tau[lab] = pd.DataFrame(df)\n",
    "pet_tau[lab].columns = pet_tau_columns"
   ]
  },
  {
   "cell_type": "code",
   "execution_count": null,
   "id": "94c9e3c9",
   "metadata": {
    "scrolled": true
   },
   "outputs": [],
   "source": [
    "if debug: pet_tau[lab].sample(5)"
   ]
  },
  {
   "cell_type": "code",
   "execution_count": null,
   "id": "d2717b2d",
   "metadata": {},
   "outputs": [],
   "source": [
    "if debug:\n",
    "    print('--')\n",
    "    print('dataframe dictionary for PET TAU {}: pet_tau')\n",
    "    print('with columns : ', pet_tau_columns)"
   ]
  },
  {
   "cell_type": "markdown",
   "id": "c60ed05f",
   "metadata": {},
   "source": [
    "**PET Files with ABETA measures**"
   ]
  },
  {
   "cell_type": "markdown",
   "id": "1fc5860c",
   "metadata": {},
   "source": [
    "* General goal :\n",
    "    - A master dataset of PET ABETA measure from all the available labs\n",
    "* Main fields to be collected\n",
    "    - RID, VISCODE (or VISCODE2)\n",
    "    - AB42, AB40, AB42/40\n",
    "    - Some timestamp indicating the sample collection time, depending on the lab"
   ]
  },
  {
   "cell_type": "markdown",
   "id": "0a2f075c",
   "metadata": {},
   "source": [
    "**Examine each lab file and the available fields**"
   ]
  },
  {
   "cell_type": "code",
   "execution_count": null,
   "id": "bec3b6bb",
   "metadata": {
    "scrolled": true
   },
   "outputs": [],
   "source": [
    "if debug:\n",
    "    for k in dataframes[\"PET\"][\"ABETA\"] :\n",
    "        print('#lab =\"{}\"'.format(k))\n",
    "        #print(k)"
   ]
  },
  {
   "cell_type": "markdown",
   "id": "ebd259cb",
   "metadata": {},
   "source": [
    "**Check the dictionary where fields are unclear**"
   ]
  },
  {
   "cell_type": "code",
   "execution_count": null,
   "id": "98deff5b",
   "metadata": {
    "scrolled": true
   },
   "outputs": [],
   "source": [
    "if debug:\n",
    "    marker = \"PET\"\n",
    "    measure = \"ABETA\"\n",
    "    lab =\"UCB_AV45_1_GO_2_3_2021-11-16\"\n",
    "    #lab =\"BAI_NMRC_AV45_1_GO_2_3_2020-10-23\"\n",
    "    print(lab)\n",
    "    df = dataframes[marker][measure][lab][\"df\"]\n",
    "    print(df.columns)\n",
    "    print(df.info())\n",
    "    dict_unc = dataframes[marker][measure][lab][\"dict\"]\n",
    "    dict_unc[[\"FLDNAME\", \"TEXT\"]]\n",
    "    #df.sample(5)"
   ]
  },
  {
   "cell_type": "markdown",
   "id": "3d22e054",
   "metadata": {},
   "source": [
    "**Collect all PET_ABETA datasets in a standardized format**"
   ]
  },
  {
   "cell_type": "code",
   "execution_count": null,
   "id": "76743f5a",
   "metadata": {},
   "outputs": [],
   "source": [
    "pet_abeta = {}"
   ]
  },
  {
   "cell_type": "code",
   "execution_count": null,
   "id": "9e071bf5",
   "metadata": {},
   "outputs": [],
   "source": [
    "pet_abeta_columns = [\"RID\", \"VISCODE\", \"PET_SUVR_ABETA\", \"update_stamp\", \"source\"]"
   ]
  },
  {
   "cell_type": "markdown",
   "id": "e86ccb24",
   "metadata": {},
   "source": [
    "**UCB_AV45_1_GO_2_3_2021-11-16**\n",
    " - Choosing the Composite SUVR value - COMPOSITE_SUVR"
   ]
  },
  {
   "cell_type": "code",
   "execution_count": null,
   "id": "3c3859aa",
   "metadata": {},
   "outputs": [],
   "source": [
    "marker = \"PET\"\n",
    "measure = \"ABETA\"\n",
    "lab =\"UCB_AV45_1_GO_2_3_2021-11-16\"\n",
    "df = dataframes[marker][measure][lab][\"df\"]\n",
    "# Refer to methods UCB AV45\n",
    "\n",
    "#df = df[[\"RID\", \"VISCODE2\", \"COMPOSITE_SUVR\", \"update_stamp\"]]\n",
    "df = df[[\"RID\", \"VISCODE2\", \"SUMMARYSUVR_WHOLECEREBNORM\", \"update_stamp\"]]\n",
    "\n",
    "df = df.dropna()\n",
    "df[\"source\"] = lab\n",
    "pet_abeta[lab] = pd.DataFrame(df)\n",
    "pet_abeta[lab].columns = pet_abeta_columns"
   ]
  },
  {
   "cell_type": "code",
   "execution_count": null,
   "id": "d21b3a36",
   "metadata": {},
   "outputs": [],
   "source": [
    "# df = dataframes[marker][measure][lab][\"df\"]\n",
    "# # Refer to methods UCB AV45\n",
    "# print('COMPOSITE_SUVR > 1.11 (%): {0:.2f}'.format(100*(df[df[\"COMPOSITE_SUVR\"] > 1.11].shape[0]/df.shape[0])))\n",
    "# print('SUMMARYSUVR_WHOLECEREBNORM > 1.11 (%): {0:.2f}'.format(100*(df[df[\"SUMMARYSUVR_WHOLECEREBNORM\"] > 1.11].shape[0]/df.shape[0])))\n",
    "# print('SUMMARYSUVR_WHOLECEREBNORM > 1.11 (\\%): {}'.format(100*(df[df[\"SUMMARYSUVR_WHOLECEREBNORM\"] > 1.11].shape[0]/df.shape[0]))\n"
   ]
  },
  {
   "cell_type": "code",
   "execution_count": null,
   "id": "46f1baee",
   "metadata": {
    "scrolled": true
   },
   "outputs": [],
   "source": [
    "if debug: pet_abeta[lab].sample(5)"
   ]
  },
  {
   "cell_type": "code",
   "execution_count": null,
   "id": "cf0ef1aa",
   "metadata": {},
   "outputs": [],
   "source": [
    "if debug:\n",
    "    print('--')\n",
    "    print('dataframe dictionary for PET ABETA {}: pet_abeta')\n",
    "    print('with columns : ', pet_abeta_columns)"
   ]
  },
  {
   "cell_type": "markdown",
   "id": "421ae292",
   "metadata": {},
   "source": [
    "<a id=\"mri\" />"
   ]
  },
  {
   "cell_type": "markdown",
   "id": "e846c14a",
   "metadata": {},
   "source": [
    "### MRI"
   ]
  },
  {
   "cell_type": "markdown",
   "id": "8527b5ce",
   "metadata": {},
   "source": [
    "**Available MRI Measures**"
   ]
  },
  {
   "cell_type": "code",
   "execution_count": null,
   "id": "8bf58b52",
   "metadata": {
    "scrolled": true
   },
   "outputs": [],
   "source": [
    "for k in dataframes[\"MRI\"][\"ALL\"][\"UCSF_FS6_3_2021-12-13\"] :\n",
    "        print(k)\n",
    "        \n",
    "dataframes[\"MRI\"][\"ALL\"][\"UCSF_FS6_3_2021-12-13\"][\"dict\"][\"TEXT\"];"
   ]
  },
  {
   "cell_type": "markdown",
   "id": "e9acfc4d",
   "metadata": {},
   "source": [
    "* General goal :\n",
    "    - Parking Free Surfer 4 data for now\n",
    "    - Lots of fields with volumes\n",
    "    - For now, sticking to RightHippocampus and LeftHippocampus\n",
    "* Main fields to be collected\n",
    "    - RID, VISCODE (or VISCODE2)\n",
    "    - ST88SV - RightHippocampus \n",
    "    - ST29SV - LeftHippocampus\n",
    "    - Some timestamp indicating the sample collection time, depending on the lab\n",
    "* For all regions of interest, refer A4, normalise using Intra Cranial Volume (refer Ali's paper)"
   ]
  },
  {
   "cell_type": "markdown",
   "id": "982771b6",
   "metadata": {},
   "source": [
    "**Examine each lab file and the available fields**"
   ]
  },
  {
   "cell_type": "code",
   "execution_count": null,
   "id": "72259e79",
   "metadata": {
    "scrolled": true
   },
   "outputs": [],
   "source": [
    "if debug :\n",
    "    for k in dataframes[\"MRI\"][\"ALL\"] :\n",
    "        print('#lab =\"{}\"'.format(k))\n",
    "        #print(k)"
   ]
  },
  {
   "cell_type": "markdown",
   "id": "f57ab9fa",
   "metadata": {},
   "source": [
    "**Check the dictionary where fields are unclear**"
   ]
  },
  {
   "cell_type": "code",
   "execution_count": null,
   "id": "c81f9235",
   "metadata": {
    "scrolled": true
   },
   "outputs": [],
   "source": [
    "if debug:\n",
    "    marker = \"MRI\"\n",
    "    measure = \"ALL\"\n",
    "    #lab =\"UCSF_FS4_1_GO_2_2015-11-02\"\n",
    "    lab =\"UCSF_FS5_1_GO_2_2021-12-13\"\n",
    "    #lab =\"UCSF_FS6_3_2021-12-13\"\n",
    "    print(lab)\n",
    "    df = dataframes[marker][measure][lab][\"df\"]\n",
    "    print(df.columns)\n",
    "    #print(df.info())\n",
    "    dict_unc = dataframes[marker][measure][lab][\"dict\"]\n",
    "    #dict_unc[[\"FLDNAME\", \"TEXT\"]][~dict_unc[\"TEXT\"].isna() & dict_unc[\"TEXT\"].str.contains(\"(?i)Hipp\")]\n",
    "    dict_unc[[\"FLDNAME\", \"TEXT\"]]\n",
    "    #df.sample(5)"
   ]
  },
  {
   "cell_type": "markdown",
   "id": "8daedce1",
   "metadata": {},
   "source": [
    "**Collect all MRI datasets in a standardized format**"
   ]
  },
  {
   "cell_type": "code",
   "execution_count": null,
   "id": "bb217507",
   "metadata": {},
   "outputs": [],
   "source": [
    "mri_hipp = {}"
   ]
  },
  {
   "cell_type": "markdown",
   "id": "1ad31318",
   "metadata": {},
   "source": [
    "**The following are the fields of interest in terms of the volume of different brain regions**"
   ]
  },
  {
   "cell_type": "code",
   "execution_count": null,
   "id": "4e022bf1",
   "metadata": {
    "scrolled": true
   },
   "outputs": [],
   "source": [
    "%run ./ADNI-MRI.ipynb"
   ]
  },
  {
   "cell_type": "code",
   "execution_count": null,
   "id": "900f5e14",
   "metadata": {
    "scrolled": true
   },
   "outputs": [],
   "source": [
    "regions = {}\n",
    "ADD_HEMISPHERES = True\n",
    "for region in sorted(MRI_REGIONS_VOLUME.keys()) :\n",
    "    reg_ = region.upper()\n",
    "    idx = 0\n",
    "    side = \"ALL\"\n",
    "    if ADD_HEMISPHERES :\n",
    "        if reg_.startswith(\"LEFT\") :\n",
    "            idx = 4\n",
    "            side = \"LEFT\"\n",
    "        elif reg_.startswith(\"RIGHT\") :\n",
    "            idx = 5\n",
    "            side = \"RIGHT\"\n",
    "        reg_ = reg_[idx:]\n",
    "    if reg_ not in regions : regions[reg_] = {}\n",
    "    regions[reg_][side] = MRI_REGIONS_VOLUME[region]\n",
    "if debug:\n",
    "    for k in regions :\n",
    "        print(k,  regions[k])\n"
   ]
  },
  {
   "cell_type": "markdown",
   "id": "4517f601",
   "metadata": {},
   "source": [
    "**For this analysis, we sum-up the volumes of Left and Right regions where applicable**"
   ]
  },
  {
   "cell_type": "code",
   "execution_count": null,
   "id": "f7b739cf",
   "metadata": {},
   "outputs": [],
   "source": [
    "mri_hipp_columns = [\"RID\", \"VISCODE\"] + ['VOL_'+k for k in sorted(regions.keys())] + [\"update_stamp\", \"source\"]"
   ]
  },
  {
   "cell_type": "markdown",
   "id": "7ccccd6c",
   "metadata": {},
   "source": [
    "**UCSF_FS5_1_GO_2_2021-12-13**\n",
    " - Choosing the sub-cortical volumes of Left and Right Hippocampus"
   ]
  },
  {
   "cell_type": "code",
   "execution_count": null,
   "id": "7b087372",
   "metadata": {},
   "outputs": [],
   "source": [
    "marker = \"MRI\"\n",
    "measure = \"ALL\"\n",
    "lab =\"UCSF_FS5_1_GO_2_2021-12-13\"\n",
    "df = dataframes[marker][measure][lab][\"df\"]\n",
    "\n",
    "all_mri_fields = [regions[reg][side] for reg in regions.keys() for side in regions[reg] ]\n",
    "mri_df = df[[\"RID\", \"VISCODE2\"]]\n",
    "#Add volumes of each side of each region and rename column names to region names\n",
    "for reg_ in sorted(regions.keys()) : \n",
    "    if \"ALL\" in regions[reg_] : #like ICV\n",
    "        mri_df['VOL_'+reg_] = df[regions[reg_][\"ALL\"]]  \n",
    "    else : \n",
    "        mri_df['VOL_'+reg_] = df[regions[reg_][\"LEFT\"]] + df[regions[reg_][\"RIGHT\"]]\n",
    "mri_df[\"update_stamp\"] = df[\"update_stamp\"]\n",
    "# df = df.dropna()\n",
    "# df[\"MRI_HIPP\"] = df[\"ST88SV\"] + df[\"ST29SV\"]\n",
    "mri_df[\"source\"] = lab"
   ]
  },
  {
   "cell_type": "code",
   "execution_count": null,
   "id": "3c177e00",
   "metadata": {},
   "outputs": [],
   "source": [
    "\n",
    "mri_hipp[lab] = pd.DataFrame(mri_df)\n",
    "mri_hipp[lab].columns = mri_hipp_columns"
   ]
  },
  {
   "cell_type": "code",
   "execution_count": null,
   "id": "772b8142",
   "metadata": {
    "scrolled": true
   },
   "outputs": [],
   "source": [
    "if debug: mri_hipp[lab].sample(5)"
   ]
  },
  {
   "cell_type": "markdown",
   "id": "d1da5930",
   "metadata": {},
   "source": [
    "**UCSF_FS6_3_2021-12-13**\n",
    " - Choosing the sub-cortical volumes of Left and Right Hippocampus"
   ]
  },
  {
   "cell_type": "code",
   "execution_count": null,
   "id": "d2bb69f3",
   "metadata": {},
   "outputs": [],
   "source": [
    "marker = \"MRI\"\n",
    "measure = \"ALL\"\n",
    "lab =\"UCSF_FS6_3_2021-12-13\"\n",
    "df = dataframes[marker][measure][lab][\"df\"]\n",
    "all_mri_fields = [regions[reg][side] for reg in regions.keys() for side in regions[reg] ]\n",
    "mri_df = df[[\"RID\", \"VISCODE2\"]]\n",
    "#Add volumes of each side of each region and rename column names to region names\n",
    "for reg_ in sorted(regions.keys()) : \n",
    "    if \"ALL\" in regions[reg_] : #like ICV\n",
    "        mri_df['VOL_'+reg_] = df[regions[reg_][\"ALL\"]]  \n",
    "    else : \n",
    "        mri_df['VOL_'+reg_] = df[regions[reg_][\"LEFT\"]] + df[regions[reg_][\"RIGHT\"]]\n",
    "mri_df[\"update_stamp\"] = df[\"update_stamp\"]\n",
    "# df = df.dropna()\n",
    "# df[\"MRI_HIPP\"] = df[\"ST88SV\"] + df[\"ST29SV\"]\n",
    "mri_df[\"source\"] = lab\n",
    "mri_hipp[lab] = pd.DataFrame(mri_df)\n",
    "mri_hipp[lab].columns = mri_hipp_columns"
   ]
  },
  {
   "cell_type": "code",
   "execution_count": null,
   "id": "bf9b5b97",
   "metadata": {},
   "outputs": [],
   "source": [
    "if debug: mri_hipp[lab].sample(5)"
   ]
  },
  {
   "cell_type": "code",
   "execution_count": null,
   "id": "0aa2d988",
   "metadata": {},
   "outputs": [],
   "source": [
    "if debug:\n",
    "    print('--')\n",
    "    print('dataframe dictionary for MRI Hippocampus {}: mri_hipp')\n",
    "    print('with columns : ', mri_hipp_columns)"
   ]
  },
  {
   "cell_type": "markdown",
   "id": "0c71ea1c",
   "metadata": {},
   "source": [
    "<a id=\"csf\" />"
   ]
  },
  {
   "cell_type": "markdown",
   "id": "2bf7feda",
   "metadata": {},
   "source": [
    "### CSF"
   ]
  },
  {
   "cell_type": "markdown",
   "id": "5b5b41fc",
   "metadata": {},
   "source": [
    "**Available CSF Measures**"
   ]
  },
  {
   "cell_type": "code",
   "execution_count": null,
   "id": "669c4114",
   "metadata": {
    "scrolled": true
   },
   "outputs": [],
   "source": [
    "if debug:\n",
    "    for k in dataframes[\"CSF\"] :\n",
    "        print(k)"
   ]
  },
  {
   "cell_type": "markdown",
   "id": "11e91613",
   "metadata": {},
   "source": [
    "<a id=\"csf-abeta\" />"
   ]
  },
  {
   "cell_type": "markdown",
   "id": "6721ee22",
   "metadata": {},
   "source": [
    "**CSF Files with ABETA measures**"
   ]
  },
  {
   "cell_type": "markdown",
   "id": "5066ae85",
   "metadata": {},
   "source": [
    "* General goal :\n",
    "    - A master dataset of CSF ABETA measure from all the available labs\n",
    "* Main fields to be collected\n",
    "    - RID, VISCODE (or VISCODE2)\n",
    "    - AB42, AB40, AB42/40\n",
    "    - Some timestamp indicating the sample collection time, depending on the lab"
   ]
  },
  {
   "cell_type": "markdown",
   "id": "bfddcf27",
   "metadata": {},
   "source": [
    "**Examine each lab file and the available fields**"
   ]
  },
  {
   "cell_type": "code",
   "execution_count": null,
   "id": "dbe0dd70",
   "metadata": {
    "scrolled": true
   },
   "outputs": [],
   "source": [
    "if debug:\n",
    "    for k in dataframes[\"CSF\"][\"ABETA\"] :\n",
    "        print('#lab =\"{}\"'.format(k))\n",
    "        #print(k)"
   ]
  },
  {
   "cell_type": "markdown",
   "id": "634d5222",
   "metadata": {},
   "source": [
    "**Check the dictionary where fields are unclear**"
   ]
  },
  {
   "cell_type": "code",
   "execution_count": null,
   "id": "036e691c",
   "metadata": {
    "scrolled": true
   },
   "outputs": [],
   "source": [
    "if debug:\n",
    "    marker = \"CSF\"\n",
    "    measure = \"ABETA\"\n",
    "    lab =\"FUJIREBIO_1_GO_2_2020-02-04\"\n",
    "    #lab =\"EUROIMMUN_1_GO_2_2019-04-18\"\n",
    "    print(lab)\n",
    "    df = dataframes[marker][measure][lab][\"df\"]\n",
    "    print(df.columns)\n",
    "    print(df.info())\n",
    "    dict_unc = dataframes[marker][measure][lab][\"dict\"]\n",
    "    dict_unc[[\"FLDNAME\", \"TEXT\"]]\n",
    "    df.sample(5)"
   ]
  },
  {
   "cell_type": "markdown",
   "id": "0141d077",
   "metadata": {},
   "source": [
    "**Collect all CSF_ABETA datasets in a standardized format**"
   ]
  },
  {
   "cell_type": "code",
   "execution_count": null,
   "id": "f9d1f09f",
   "metadata": {},
   "outputs": [],
   "source": [
    "csf_abeta = {}"
   ]
  },
  {
   "cell_type": "code",
   "execution_count": null,
   "id": "0ea5829c",
   "metadata": {},
   "outputs": [],
   "source": [
    "csf_abeta_columns = [\"RID\", \"VISCODE\", \"CSF_AB42\", \"CSF_AB40\", \"CSF_AB4240\", \"update_stamp\", \"source\"]"
   ]
  },
  {
   "cell_type": "markdown",
   "id": "41178d7e",
   "metadata": {},
   "source": [
    "**FUJIREBIO_1_GO_2_2020-02-04**\n",
    " - Looks standard\n",
    " - Fields of interest \n",
    "  - 'ABETA42'\n",
    "  - 'ABETA40' \n",
    "  - 'ABETA42_40'"
   ]
  },
  {
   "cell_type": "code",
   "execution_count": null,
   "id": "0d9d42a3",
   "metadata": {},
   "outputs": [],
   "source": [
    "marker = \"CSF\"\n",
    "measure = \"ABETA\"\n",
    "lab =\"FUJIREBIO_1_GO_2_2020-02-04\"\n",
    "df = dataframes[marker][measure][lab][\"df\"]\n",
    "df = df[[\"RID\", \"VISCODE2\", \"ABETA42\", \"ABETA40\", \"ABETA42_40\", \"update_stamp\"]]\n",
    "df = df.dropna()\n",
    "df[\"source\"] = lab\n",
    "csf_abeta[lab] = pd.DataFrame(df)\n",
    "csf_abeta[lab].columns = csf_abeta_columns"
   ]
  },
  {
   "cell_type": "code",
   "execution_count": null,
   "id": "5aef8dca",
   "metadata": {
    "scrolled": true
   },
   "outputs": [],
   "source": [
    "if debug: csf_abeta[lab].sample(5)"
   ]
  },
  {
   "cell_type": "markdown",
   "id": "e27659c4",
   "metadata": {},
   "source": [
    "**EUROIMMUN_1_GO_2_2019-04-18**\n",
    " - VISCODE2 **240** non-null but BETA_AMYLOID_42_40 **278 non-null** ?\n",
    " - Fields of interest \n",
    "  - 'BETA_AMYLOID_1_40'\n",
    "  - 'BETA_AMYLOID_1_42'\n",
    "  - 'BETA_AMYLOID_42_40'"
   ]
  },
  {
   "cell_type": "code",
   "execution_count": null,
   "id": "d93b6983",
   "metadata": {},
   "outputs": [],
   "source": [
    "marker = \"CSF\"\n",
    "measure = \"ABETA\"\n",
    "lab =\"EUROIMMUN_1_GO_2_2019-04-18\"\n",
    "df = dataframes[marker][measure][lab][\"df\"]\n",
    "df = df[[\"RID\", \"VISCODE2\", \"BETA_AMYLOID_1_42\", \"BETA_AMYLOID_1_40\", \"BETA_AMYLOID_42_40\", \"update_stamp\"]]\n",
    "df = df.dropna()\n",
    "df[\"source\"] = lab\n",
    "csf_abeta[lab] = pd.DataFrame(df)\n",
    "csf_abeta[lab].columns = csf_abeta_columns"
   ]
  },
  {
   "cell_type": "code",
   "execution_count": null,
   "id": "ad3222c2",
   "metadata": {},
   "outputs": [],
   "source": [
    "if debug: csf_abeta[lab].sample(5)"
   ]
  },
  {
   "cell_type": "code",
   "execution_count": null,
   "id": "a9a1efff",
   "metadata": {},
   "outputs": [],
   "source": [
    "if debug :\n",
    "    print('--')\n",
    "    print('dataframe dictionary for CSF ABETA {}: csf_abeta')\n",
    "    print('with columns : ', csf_abeta_columns)"
   ]
  },
  {
   "cell_type": "markdown",
   "id": "df0ac09e",
   "metadata": {},
   "source": [
    "<a id=\"csf-nfl\" />"
   ]
  },
  {
   "cell_type": "markdown",
   "id": "94c4b3ce",
   "metadata": {},
   "source": [
    "**CSF Files with NFL measures**"
   ]
  },
  {
   "cell_type": "markdown",
   "id": "5da6b917",
   "metadata": {},
   "source": [
    "* General goal :\n",
    "    - A master dataset of CSF NFL measure from all the available labs\n",
    "* Main fields to be collected\n",
    "    - RID, VISCODE (or VISCODE2)\n",
    "    - CSF_NFL\n",
    "    - Some timestamp indicating the sample collection time, depending on the lab"
   ]
  },
  {
   "cell_type": "markdown",
   "id": "bef4fefe",
   "metadata": {},
   "source": [
    "**Examine each lab file and the available fields**"
   ]
  },
  {
   "cell_type": "code",
   "execution_count": null,
   "id": "2df01efb",
   "metadata": {
    "scrolled": true
   },
   "outputs": [],
   "source": [
    "if debug:\n",
    "    for k in dataframes[\"CSF\"][\"NFL\"] :\n",
    "        print('#lab =\"{}\"'.format(k))\n",
    "        #print(k)"
   ]
  },
  {
   "cell_type": "markdown",
   "id": "ddd9e920",
   "metadata": {},
   "source": [
    "**Check the dictionary where fields are unclear**"
   ]
  },
  {
   "cell_type": "code",
   "execution_count": null,
   "id": "5306333d",
   "metadata": {
    "scrolled": true
   },
   "outputs": [],
   "source": [
    "if debug:\n",
    "    marker = \"CSF\"\n",
    "    measure = \"NFL\"\n",
    "    lab =\"BLENNOWLAB_1_2014-11-13\"\n",
    "    print(lab)\n",
    "    df = dataframes[marker][measure][lab][\"df\"]\n",
    "    print(df.columns)\n",
    "    print(df.info())\n",
    "    dict_unc = dataframes[marker][measure][lab][\"dict\"]\n",
    "    dict_unc[[\"FLDNAME\", \"TEXT\"]]\n",
    "    df.sample(5)"
   ]
  },
  {
   "cell_type": "markdown",
   "id": "75511912",
   "metadata": {},
   "source": [
    "**Collect all CSF_NFL datasets in a standardized format**"
   ]
  },
  {
   "cell_type": "code",
   "execution_count": null,
   "id": "5c3b23c1",
   "metadata": {},
   "outputs": [],
   "source": [
    "csf_nfl = {}"
   ]
  },
  {
   "cell_type": "code",
   "execution_count": null,
   "id": "2fed2913",
   "metadata": {},
   "outputs": [],
   "source": [
    "csf_nfl_columns = [\"RID\", \"VISCODE\", \"CSF_NFL\", \"update_stamp\", \"source\"]"
   ]
  },
  {
   "cell_type": "markdown",
   "id": "82802a6d",
   "metadata": {},
   "source": [
    "**BLENNOWLAB_1_2014-11-13**\n",
    " - Looks standard\n",
    " - Fields of interest \n",
    "  - CSFNFL"
   ]
  },
  {
   "cell_type": "code",
   "execution_count": null,
   "id": "20192edf",
   "metadata": {},
   "outputs": [],
   "source": [
    "marker = \"CSF\"\n",
    "measure = \"NFL\"\n",
    "lab =\"BLENNOWLAB_1_2014-11-13\"\n",
    "df = dataframes[marker][measure][lab][\"df\"]\n",
    "df = df[[\"RID\", \"VISCODE\", \"CSFNFL\", \"update_stamp\"]]\n",
    "df = df.dropna()\n",
    "df[\"source\"] = lab\n",
    "csf_nfl[lab] = pd.DataFrame(df)\n",
    "csf_nfl[lab].columns = csf_nfl_columns"
   ]
  },
  {
   "cell_type": "code",
   "execution_count": null,
   "id": "7d40c85b",
   "metadata": {},
   "outputs": [],
   "source": [
    "if debug: csf_nfl[lab].sample(5)"
   ]
  },
  {
   "cell_type": "code",
   "execution_count": null,
   "id": "e5f439e5",
   "metadata": {},
   "outputs": [],
   "source": [
    "if debug :\n",
    "    print('--')\n",
    "    print('dataframe dictionary for CSF NFL {}: csf_nfl')\n",
    "    print('with columns : ', csf_nfl_columns)"
   ]
  },
  {
   "cell_type": "markdown",
   "id": "f8955ade",
   "metadata": {},
   "source": [
    "<a id=\"csf-all\" />"
   ]
  },
  {
   "cell_type": "markdown",
   "id": "d068c186",
   "metadata": {},
   "source": [
    "**CSF Files with Unspecified(ALL) measures**"
   ]
  },
  {
   "cell_type": "markdown",
   "id": "134c2c04",
   "metadata": {},
   "source": [
    "* General goal :\n",
    "    - A master dataset of CSF files where measures are unspecified (likely all of ABETA, TAU, PTAU, NFL)\n",
    "* Main fields to be collected\n",
    "    - RID, VISCODE (or VISCODE2)\n",
    "    - where available : CSF_AB42, CSF_AB40, CSF_AB4240, CSF_TAU, CSF_PTAU\n",
    "    - Some timestamp indicating the sample collection time, depending on the lab"
   ]
  },
  {
   "cell_type": "markdown",
   "id": "a73b931e",
   "metadata": {},
   "source": [
    "Examine each lab file and the available fields"
   ]
  },
  {
   "cell_type": "code",
   "execution_count": null,
   "id": "6ea0aef1",
   "metadata": {
    "scrolled": true
   },
   "outputs": [],
   "source": [
    "if debug:\n",
    "    for k in dataframes[\"CSF\"][\"ALL\"] :\n",
    "        print('#lab =\"{}\"'.format(k))\n",
    "        #print(k)"
   ]
  },
  {
   "cell_type": "markdown",
   "id": "b60dc888",
   "metadata": {},
   "source": [
    "**Collect all CSF_ALL datasets in a standardized format**"
   ]
  },
  {
   "cell_type": "code",
   "execution_count": null,
   "id": "de55c61a",
   "metadata": {},
   "outputs": [],
   "source": [
    "csf_all = {}"
   ]
  },
  {
   "cell_type": "code",
   "execution_count": null,
   "id": "fe9db609",
   "metadata": {},
   "outputs": [],
   "source": [
    "csf_all_columns = [\"RID\", \"VISCODE\", \"CSF_AB42\", \"CSF_AB40\", \"CSF_AB4240\", \"CSF_TAU\", \"CSF_PTAU\", \"update_stamp\", \"source\"]"
   ]
  },
  {
   "cell_type": "markdown",
   "id": "9d386657",
   "metadata": {},
   "source": [
    "**Check the dictionary where fields are unclear**"
   ]
  },
  {
   "cell_type": "code",
   "execution_count": null,
   "id": "e20ce966",
   "metadata": {},
   "outputs": [],
   "source": [
    "if debug:\n",
    "    marker = \"CSF\"\n",
    "    measure = \"ALL\"\n",
    "    #lab =\"UPENN_ELECSYS_1_GO_2_3_2021-01-04\"\n",
    "    #lab =\"UPENN_ELECSYS_1_GO_2_2017-04-19\"\n",
    "    #lab =\"UPENN_ELECSYS_3_Bt1_2019-07-29\"\n",
    "    #lab =\"UPENN_DIAN_1_GO_2_2018-04-09\"\n",
    "    #lab =\"LOCALLAB_1_GO_2_3_2022-01-24\"\n",
    "    lab =\"UPENN_MASTER_1_GO_2_2018-04-09\"\n",
    "    print(lab)\n",
    "    df = dataframes[marker][measure][lab][\"df\"]\n",
    "    print(df.columns)\n",
    "    print(df.info())\n",
    "    dict_unc = dataframes[marker][measure][lab][\"dict\"]\n",
    "    dict_unc[[\"FLDNAME\", \"TEXT\"]]\n",
    "    df.sample(5)"
   ]
  },
  {
   "cell_type": "markdown",
   "id": "01aaaaeb",
   "metadata": {},
   "source": [
    "**UPENN_MASTER_1_GO_2_2018-04-09**\n",
    " - Contains ~5800 entries, with a field 'BATCH' with values ['UPENNBIOMK', 'UPENNBIOMK2', 'MEDIAN', ...,'UPENNBIOMK7', 'UPENNBIOMK8']\n",
    " - Does not contain AB40\n",
    " - ABETA, TAU, PTAU fields are scaled to 'UPENNBIOMK', also extra '_RAW' fields for each of them\n",
    " - Fields of interest \n",
    "  - 'ABETA'\n",
    "  - 'PTAU'\n",
    "  - 'TAU'"
   ]
  },
  {
   "cell_type": "code",
   "execution_count": null,
   "id": "57b47281",
   "metadata": {},
   "outputs": [],
   "source": [
    "marker = \"CSF\"\n",
    "measure = \"ALL\"\n",
    "lab =\"UPENN_MASTER_1_GO_2_2018-04-09\"\n",
    "df = dataframes[marker][measure][lab][\"df\"]\n",
    "df = df[[\"RID\", \"VISCODE\", \"ABETA\", \"TAU\", \"PTAU\", \"update_stamp\"]]\n",
    "df = df.dropna()\n",
    "df[\"AB40\"] = np.NaN\n",
    "df[\"AB4240\"] = np.NaN\n",
    "df[\"source\"] = lab\n",
    "csf_all[lab] = pd.DataFrame(df[[\"RID\", \"VISCODE\", \"ABETA\", \"AB40\", \"AB4240\", \"TAU\", \"PTAU\", \"update_stamp\", \"source\"]])\n",
    "csf_all[lab].columns = csf_all_columns"
   ]
  },
  {
   "cell_type": "code",
   "execution_count": null,
   "id": "9bcb52a8",
   "metadata": {},
   "outputs": [],
   "source": [
    "if debug: csf_all[lab].sample(5)"
   ]
  },
  {
   "cell_type": "markdown",
   "id": "4e9d4024",
   "metadata": {},
   "source": [
    "**UPENN_DIAN_1_GO_2_2018-04-09**\n",
    " - Contains - AB42, AB40, AB4240, PTAU181, TAU\n",
    " - Fields of interest \n",
    "  - 'AB40'\n",
    "  - 'ABETA'\n",
    "  - 'PTAU'\n",
    "  - 'TAU'\n",
    "  - 'A4240'"
   ]
  },
  {
   "cell_type": "code",
   "execution_count": null,
   "id": "7933e935",
   "metadata": {},
   "outputs": [],
   "source": [
    "marker = \"CSF\"\n",
    "measure = \"ALL\"\n",
    "lab =\"UPENN_DIAN_1_GO_2_2018-04-09\"\n",
    "df = dataframes[marker][measure][lab][\"df\"]\n",
    "df = df[[\"RID\", \"VISCODE2\", \"ABETA\", \"AB40\", \"A4240\", \"TAU\", \"PTAU\", \"update_stamp\"]]\n",
    "#df = df.dropna() - 1 record has non-null ABeta but null tau \n",
    "df[\"source\"] = lab\n",
    "csf_all[lab] = pd.DataFrame(df)\n",
    "csf_all[lab].columns = csf_all_columns"
   ]
  },
  {
   "cell_type": "code",
   "execution_count": null,
   "id": "fb6a8e84",
   "metadata": {},
   "outputs": [],
   "source": [
    "if debug: csf_all[lab].info()"
   ]
  },
  {
   "cell_type": "markdown",
   "id": "f3c51df9",
   "metadata": {},
   "source": [
    "**UPENN_ELECSYS_3_Bt1_2019-07-29**\n",
    " - Contains - 'ABETA40', 'ABETA42', 'PTAU', 'TAU'\n",
    " - AB4240 ratio to be calculated"
   ]
  },
  {
   "cell_type": "code",
   "execution_count": null,
   "id": "875130c0",
   "metadata": {},
   "outputs": [],
   "source": [
    "marker = \"CSF\"\n",
    "measure = \"ALL\"\n",
    "lab =\"UPENN_ELECSYS_3_Bt1_2019-07-29\"\n",
    "df = dataframes[marker][measure][lab][\"df\"]\n",
    "df = df[[\"RID\", \"VISCODE2\", \"ABETA42\", \"ABETA40\", \"TAU\", \"PTAU\", \"update_stamp\"]]\n",
    "df[\"AB4240\"] = df[\"ABETA42\"]/df[\"ABETA40\"]\n",
    "#df = df.dropna() - Some records have non-null ABeta but null tau \n",
    "df[\"source\"] = lab\n",
    "csf_all[lab] = pd.DataFrame(df[[\"RID\", \"VISCODE2\", \"ABETA42\", \"ABETA40\", \"AB4240\", \"TAU\", \"PTAU\", \"update_stamp\", \"source\"]])\n",
    "csf_all[lab].columns = csf_all_columns"
   ]
  },
  {
   "cell_type": "code",
   "execution_count": null,
   "id": "f69ecb46",
   "metadata": {},
   "outputs": [],
   "source": [
    "if debug: csf_all[lab].sample(5)"
   ]
  },
  {
   "cell_type": "markdown",
   "id": "22e83143",
   "metadata": {},
   "source": [
    "**UPENN_ELECSYS_1_GO_2_2017-04-19**\n",
    " - Contains ~2400 entries (compared to 216 in UPENN_ELECSYS_1_GO_2_3 file)\n",
    " - Does not contain AB40\n",
    " - Fields of interest \n",
    "  - 'ABETA' - has values like '>1700'\n",
    "  - 'PTAU'\n",
    "  - 'TAU'"
   ]
  },
  {
   "cell_type": "code",
   "execution_count": null,
   "id": "972eceb8",
   "metadata": {},
   "outputs": [],
   "source": [
    "marker = \"CSF\"\n",
    "measure = \"ALL\"\n",
    "lab =\"UPENN_ELECSYS_1_GO_2_2017-04-19\"\n",
    "df = dataframes[marker][measure][lab][\"df\"]\n",
    "df = df[[\"RID\", \"VISCODE2\", \"ABETA\", \"TAU\", \"PTAU\", \"update_stamp\"]]\n",
    "df = df.dropna()\n",
    "df[\"AB40\"] = np.NaN\n",
    "df[\"AB4240\"] = np.NaN\n",
    "df[\"source\"] = lab\n",
    "csf_all[lab] = pd.DataFrame(df[[\"RID\", \"VISCODE2\", \"ABETA\", \"AB40\", \"AB4240\", \"TAU\", \"PTAU\", \"update_stamp\", \"source\"]])\n",
    "csf_all[lab].columns = csf_all_columns"
   ]
  },
  {
   "cell_type": "code",
   "execution_count": null,
   "id": "06f39f48",
   "metadata": {},
   "outputs": [],
   "source": [
    "if debug: csf_all[lab].sample(5)"
   ]
  },
  {
   "cell_type": "markdown",
   "id": "79b6257c",
   "metadata": {},
   "source": [
    "**UPENN_ELECSYS_1_GO_2_3_2021-01-04**\n",
    " - Contains - AB42, AB40, AB4240, PTAU181, TAU\n",
    " - Fields of interest \n",
    "  - 'AB40'\n",
    "  - 'ABETA'\n",
    "  - 'PTAU'\n",
    "  - 'TAU'\n",
    "  - 'AB4240'"
   ]
  },
  {
   "cell_type": "code",
   "execution_count": null,
   "id": "59ecf19c",
   "metadata": {},
   "outputs": [],
   "source": [
    "marker = \"CSF\"\n",
    "measure = \"ALL\"\n",
    "lab =\"UPENN_ELECSYS_1_GO_2_3_2021-01-04\"\n",
    "df = dataframes[marker][measure][lab][\"df\"]\n",
    "df = df[[\"RID\", \"VISCODE2\", \"ABETA\", \"AB40\", \"AB4240\", \"TAU\", \"PTAU\", \"EXAMDATE\"]]\n",
    "#df = df.dropna() - Some records have non-null ABeta but null tau \n",
    "df[\"source\"] = lab\n",
    "csf_all[lab] = pd.DataFrame(df)\n",
    "csf_all[lab].columns = csf_all_columns"
   ]
  },
  {
   "cell_type": "code",
   "execution_count": null,
   "id": "8953deee",
   "metadata": {
    "scrolled": true
   },
   "outputs": [],
   "source": [
    "if debug: csf_all[lab].sample(5)"
   ]
  },
  {
   "cell_type": "code",
   "execution_count": null,
   "id": "831c67ee",
   "metadata": {},
   "outputs": [],
   "source": [
    "if debug :\n",
    "    print('--')\n",
    "    print('dataframe dictionary for CSF ALL {}: csf_all')\n",
    "    print('with columns : ', csf_all_columns)"
   ]
  },
  {
   "cell_type": "markdown",
   "id": "c8cb462f",
   "metadata": {},
   "source": [
    "<a id=\"csf-questions\" />"
   ]
  },
  {
   "cell_type": "markdown",
   "id": "60ecfcca",
   "metadata": {},
   "source": [
    "#### CSF Questions \n",
    "* CSF\n",
    "    - NFL \n",
    "        * One file available, BLENNOWLAB ADNI 1, CSF_NFL field, 415 entries\n",
    "    - AB42/AB40\n",
    "        * Two files available : AB42, AB40, AB4240 available in both\n",
    "             - FUJIREBIO ADNI 1,GO,2 - 440 entries\n",
    "             - EUROIMMUN ADNI 1,GO,2 - VISCODE2 **240** non-null but BETA_AMYLOID_42_40 **278 non-null** ?\n",
    "    - General : Files with all or some of [ABETA, TAU and PTAU]\n",
    "        * 5 files available : TAU, PTAU, ABETA42 in all, ABETA40 and AB4240 in few\n",
    "            - UPENN ELECSYS ADNI 1_GO_2_3 : All the fields available, ~214 entries\n",
    "            - UPENN ELECSYS ADNI 1_GO_2 : ~2400 entries, but no AB40 (nor the ratio)\n",
    "            - UPENN ELECSYS ADNI 3, Batch 1 : ~497 entries, ratio to be calculated\n",
    "            - UPENN ADNI DIAN ADNI 1_GO_2 : All the fields available, ~422 entries\n",
    "            - UPENN MASTER ADNI 1_GO_2 : \n",
    "                * Contains ~5800 entries, no AB40 nor the ratio\n",
    "                * with a field 'BATCH' with values ['UPENNBIOMK', 'UPENNBIOMK2', 'MEDIAN', ...,'UPENNBIOMK7', 'UPENNBIOMK8']\n",
    "                * ABETA, TAU, PTAU fields are scaled to 'UPENNBIOMK', also extra '_RAW' fields for each of them\n"
   ]
  },
  {
   "cell_type": "markdown",
   "id": "d7c53c0c",
   "metadata": {},
   "source": [
    "<a id=\"plasma\" />"
   ]
  },
  {
   "cell_type": "markdown",
   "id": "ad4ea4a7",
   "metadata": {},
   "source": [
    "### PLASMA"
   ]
  },
  {
   "cell_type": "markdown",
   "id": "9c5526cc",
   "metadata": {},
   "source": [
    "**Available PLASMA Measures**"
   ]
  },
  {
   "cell_type": "code",
   "execution_count": null,
   "id": "694b1b82",
   "metadata": {},
   "outputs": [],
   "source": [
    "if debug:\n",
    "    for k in dataframes[\"PLASMA\"] :\n",
    "        print(k)"
   ]
  },
  {
   "cell_type": "markdown",
   "id": "d0e3ae44",
   "metadata": {},
   "source": [
    "<a id=\"plasma-abeta\" />"
   ]
  },
  {
   "cell_type": "markdown",
   "id": "465e0473",
   "metadata": {},
   "source": [
    "**PLASMA Files with ABETA measures**"
   ]
  },
  {
   "cell_type": "markdown",
   "id": "a4f4774e",
   "metadata": {},
   "source": [
    "* General goal :\n",
    "    - A master dataset of ABETA measure from all the available labs\n",
    "* Main fields to be collected\n",
    "    - RID, VISCODE (or VISCODE2)\n",
    "    - ABETA1-42\n",
    "    - ABETA1-40\n",
    "    - Ratio ABETA42/40\n",
    "    - Some timestamp indicating the sample collection time, depending on the lab"
   ]
  },
  {
   "cell_type": "markdown",
   "id": "36a205a3",
   "metadata": {},
   "source": [
    "**Examine each lab file for the required fields**"
   ]
  },
  {
   "cell_type": "code",
   "execution_count": null,
   "id": "b25da755",
   "metadata": {
    "scrolled": true
   },
   "outputs": [],
   "source": [
    "if debug:\n",
    "    for k in dataframes[\"PLASMA\"][\"ABETA\"] :\n",
    "        #print('#lab =\"{}\"'.format(k))\n",
    "        print(k)"
   ]
  },
  {
   "cell_type": "markdown",
   "id": "7c1a2102",
   "metadata": {},
   "source": [
    "<a id=\"plasma-abeta-exploration\" />"
   ]
  },
  {
   "cell_type": "markdown",
   "id": "1800e172",
   "metadata": {},
   "source": [
    "**Check the dictionary where fields are unclear**"
   ]
  },
  {
   "cell_type": "code",
   "execution_count": null,
   "id": "85fbf2c0",
   "metadata": {
    "scrolled": true
   },
   "outputs": [],
   "source": [
    "if debug:\n",
    "    #lab =\"ARACLON_1_GO_2_2016-02-16\"\n",
    "    #lab =\"FNIH_UWASH_1_GO_2_2021-11-05\"\n",
    "    #lab =\"UPENN_1_\"\n",
    "    #lab =\"FNIH_SHIMADZU_1_GO_2_2021-05-25\"\n",
    "    #lab =\"BATEMAN_2019-06-21\"\n",
    "    #lab =\"FNIH_VUMC_1_GO_2_2021-05-25\"\n",
    "    #lab =\"FNIH_QUANTERIX_1_GO_2_2021-05-25\"\n",
    "    #lab =\"FNIH_ROCHE_1_GO_2_2021-05-25\"\n",
    "    lab =\"FNIH_GOTHENBURG_1_GO_2_2021-05-25\"\n",
    "    print(lab)\n",
    "    df = dataframes[\"PLASMA\"][\"ABETA\"][lab][\"df\"]\n",
    "    print(df.columns)\n",
    "    dict_unc = dataframes[\"PLASMA\"][\"ABETA\"][lab][\"dict\"]\n",
    "    dict_unc[[\"FLDNAME\", \"TEXT\"]]\n",
    "    #df.info()"
   ]
  },
  {
   "cell_type": "markdown",
   "id": "38729a50",
   "metadata": {},
   "source": [
    "**Collect all PLASMA_ABETA datasets in a standardized format**"
   ]
  },
  {
   "cell_type": "code",
   "execution_count": null,
   "id": "e8d5b143",
   "metadata": {},
   "outputs": [],
   "source": [
    "plasma_abeta = {}"
   ]
  },
  {
   "cell_type": "markdown",
   "id": "38870417",
   "metadata": {},
   "source": [
    "**Collect the following fields from all the groups**"
   ]
  },
  {
   "cell_type": "code",
   "execution_count": null,
   "id": "d89ea146",
   "metadata": {},
   "outputs": [],
   "source": [
    "plasma_abeta_columns = [\"RID\", \"VISCODE\", \"PLASMA_AB42\", \"PLASMA_AB40\", \"PLASMA_AB4240\", \"update_stamp\", \"source\"]"
   ]
  },
  {
   "cell_type": "markdown",
   "id": "b014dd18",
   "metadata": {},
   "source": [
    "**FNIH_GOTHENBURG_1_GO_2_2021-05-25**\n",
    " - Looks standard, ratio to be calculated\n",
    " - Fields of interest \n",
    "  - AB_1_42\n",
    "  - AB_1_40\n",
    " - NULL values with '-', marked as technical issues"
   ]
  },
  {
   "cell_type": "code",
   "execution_count": null,
   "id": "81e8c698",
   "metadata": {},
   "outputs": [],
   "source": [
    "lab =\"FNIH_GOTHENBURG_1_GO_2_2021-05-25\"\n",
    "df = dataframes[\"PLASMA\"][\"ABETA\"][lab][\"df\"]\n",
    "df = df[[\"RID\", \"VISCODE2\", \"AB_1_42\", \"AB_1_40\", \"update_stamp\"]]\n",
    "df = df.replace('-', np.NaN)\n",
    "df = df.dropna()\n",
    "df.AB_1_42 = df.AB_1_42.astype('float')\n",
    "df.AB_1_40 = df.AB_1_40.astype('float')\n",
    "df[\"AB4240\"] = df[\"AB_1_42\"]/df[\"AB_1_40\"]\n",
    "df[\"source\"] = lab\n",
    "plasma_abeta[lab] = pd.DataFrame(df[[\"RID\", \"VISCODE2\", \"AB_1_42\", \"AB_1_40\", \"AB4240\", \"update_stamp\", \"source\"]])\n",
    "plasma_abeta[lab].columns = plasma_abeta_columns"
   ]
  },
  {
   "cell_type": "code",
   "execution_count": null,
   "id": "217b5dc2",
   "metadata": {},
   "outputs": [],
   "source": [
    "if debug: plasma_abeta[lab].sample(5)"
   ]
  },
  {
   "cell_type": "markdown",
   "id": "bd727077",
   "metadata": {},
   "source": [
    "**FNIH_ROCHE_1_GO_2_2021-05-25**\n",
    " - Data is condensed - column ASSAY has 'Abeta1-42' or 'Abeta1-40' and RESULT has the corresponding value\n",
    " - update_stamp is the same for all of them"
   ]
  },
  {
   "cell_type": "code",
   "execution_count": null,
   "id": "f33b881c",
   "metadata": {},
   "outputs": [],
   "source": [
    "lab =\"FNIH_ROCHE_1_GO_2_2021-05-25\"\n",
    "df = dataframes[\"PLASMA\"][\"ABETA\"][lab][\"df\"]\n",
    "df = df[[\"RID\", \"VISCODE2\", \"ASSAY\", \"RESULT\", \"update_stamp\"]]\n",
    "df = df.pivot(index=[\"RID\",\"VISCODE2\",\"update_stamp\"], columns='ASSAY')[\"RESULT\"].reset_index()\n",
    "df = df.dropna()\n",
    "df[\"AB4240\"] = df[\"Abeta1-42\"]/df[\"Abeta1-40\"]\n",
    "df[\"source\"] = lab\n",
    "plasma_abeta[lab] = pd.DataFrame(df[[\"RID\", \"VISCODE2\", \"Abeta1-42\", \"Abeta1-40\", \"AB4240\", \"update_stamp\", \"source\"]])\n",
    "plasma_abeta[lab].columns = plasma_abeta_columns"
   ]
  },
  {
   "cell_type": "code",
   "execution_count": null,
   "id": "071c2307",
   "metadata": {},
   "outputs": [],
   "source": [
    "if debug: plasma_abeta[lab].sample(5)"
   ]
  },
  {
   "cell_type": "markdown",
   "id": "aa5c065e",
   "metadata": {},
   "source": [
    "**FNIH_QUANTERIX_1_GO_2_2021-05-25**\n",
    " - Data has replicate entries\n",
    " - There are values w.r.t a DILUTION_FACTOR = 4\n",
    " - Fields of Interest :\n",
    "     - 'AB1_42_AVE_CONC' or 'AB1_42_DILUTION_CORRECTED_CONC'\n",
    "     - 'AB1_40_AVE_CONC' or 'AB1_40_DILUTION_CORRECTED_CONC'\n",
    " - Going with AB1_40_DILUTION_CORRECTED_CONC for now"
   ]
  },
  {
   "cell_type": "code",
   "execution_count": null,
   "id": "26966cb5",
   "metadata": {},
   "outputs": [],
   "source": [
    "lab =\"FNIH_QUANTERIX_1_GO_2_2021-05-25\"\n",
    "df = dataframes[\"PLASMA\"][\"ABETA\"][lab][\"df\"]\n",
    "df = df[[\"RID\", \"VISCODE2\", \"AB1_42_DILUTION_CORRECTED_CONC\", \"AB1_40_DILUTION_CORRECTED_CONC\", \"update_stamp\"]]\n",
    "df = df.dropna()\n",
    "df[\"AB4240\"] = df[\"AB1_42_DILUTION_CORRECTED_CONC\"]/df[\"AB1_40_DILUTION_CORRECTED_CONC\"]\n",
    "df[\"source\"] = lab\n",
    "plasma_abeta[lab] = pd.DataFrame(df[[\"RID\", \"VISCODE2\", \"AB1_42_DILUTION_CORRECTED_CONC\", \"AB1_40_DILUTION_CORRECTED_CONC\", \"AB4240\", \"update_stamp\", \"source\"]])\n",
    "plasma_abeta[lab].columns = plasma_abeta_columns"
   ]
  },
  {
   "cell_type": "code",
   "execution_count": null,
   "id": "2598af4d",
   "metadata": {},
   "outputs": [],
   "source": [
    "if debug: plasma_abeta[lab].sample(5)"
   ]
  },
  {
   "cell_type": "markdown",
   "id": "43f90cb2",
   "metadata": {},
   "source": [
    "**FNIH_VUMC_1_GO_2_2021-05-25**\n",
    " - Straighforward, ratio to be calculated\n",
    " - Fields of Interest :\n",
    "     - ABETA42\n",
    "     - ABETA40\n",
    " - Some comments on ABETA40 in the Dictionary"
   ]
  },
  {
   "cell_type": "code",
   "execution_count": null,
   "id": "75a29e79",
   "metadata": {},
   "outputs": [],
   "source": [
    "lab =\"FNIH_VUMC_1_GO_2_2021-05-25\"\n",
    "df = dataframes[\"PLASMA\"][\"ABETA\"][lab][\"df\"]\n",
    "df = df[[\"RID\", \"VISCODE2\", \"ABETA42\", \"ABETA40\", \"update_stamp\"]]\n",
    "df = df.dropna()\n",
    "df[\"AB4240\"] = df[\"ABETA42\"]/df[\"ABETA40\"]\n",
    "df[\"source\"] = lab\n",
    "plasma_abeta[lab] = pd.DataFrame(df[[\"RID\", \"VISCODE2\", \"ABETA42\", \"ABETA40\", \"AB4240\", \"update_stamp\", \"source\"]])\n",
    "plasma_abeta[lab].columns = plasma_abeta_columns"
   ]
  },
  {
   "cell_type": "code",
   "execution_count": null,
   "id": "ef7a457f",
   "metadata": {},
   "outputs": [],
   "source": [
    "if debug: plasma_abeta[lab].sample(5)"
   ]
  },
  {
   "cell_type": "markdown",
   "id": "e019e53d",
   "metadata": {},
   "source": [
    "**BATEMAN_2019-06-21**\n",
    " - Many values, picking N15 ones\n",
    " - Fields of Interest : (units of AB42 and AB40 different from others)\n",
    "  - PEAK_AREA_ABETA40_N15_TOUSE\n",
    "  - PEAK_AREA_ABETA42_N15_TOUSE\n",
    "  - RATIO_ABETA42_40_BY_ISTD_TOUSE"
   ]
  },
  {
   "cell_type": "code",
   "execution_count": null,
   "id": "7d1d1f82",
   "metadata": {},
   "outputs": [],
   "source": [
    "lab =\"BATEMAN_2019-06-21\"\n",
    "df = dataframes[\"PLASMA\"][\"ABETA\"][lab][\"df\"]\n",
    "df = df[[\"RID\", \"VISCODE2\", \"PEAK_AREA_ABETA42_N15_TOUSE\", \"PEAK_AREA_ABETA40_N15_TOUSE\", \n",
    "         \"RATIO_ABETA42_40_BY_ISTD_TOUSE\", \"update_stamp\"]]\n",
    "df = df.dropna()\n",
    "df[\"source\"] = lab\n",
    "plasma_abeta[lab] = pd.DataFrame(df)\n",
    "plasma_abeta[lab].columns = plasma_abeta_columns"
   ]
  },
  {
   "cell_type": "code",
   "execution_count": null,
   "id": "41c57708-b938-4738-8a21-23c03f0673e9",
   "metadata": {},
   "outputs": [],
   "source": [
    "lab =\"BATEMAN_2022-11-18\"\n",
    "df = dataframes[\"PLASMA\"][\"ABETA\"][lab][\"df\"]\n",
    "df = df[[\"RID\", \"VISCODE2\", \"Abeta_42_conc\", \"Abeta_40_conc\", \n",
    "         \"Abeta_4240_Standardized\", \"update_stamp\"]]\n",
    "df = df.dropna()\n",
    "df[\"source\"] = lab\n",
    "plasma_abeta[lab] = pd.DataFrame(df)\n",
    "plasma_abeta[lab].columns = plasma_abeta_columns"
   ]
  },
  {
   "cell_type": "code",
   "execution_count": null,
   "id": "735dc52c",
   "metadata": {},
   "outputs": [],
   "source": [
    "if debug: plasma_abeta[lab].sample(5)"
   ]
  },
  {
   "cell_type": "markdown",
   "id": "881cc45a",
   "metadata": {},
   "source": [
    "**FNIH_SHIMADZU_1_GO_2_2021-05-25**\n",
    " - COMPOSITE_BIOMARKER\t: combining normalized scores of APP669711/AB 142 and AB 140/AB 142 with a weight of 1:1. "
   ]
  },
  {
   "cell_type": "code",
   "execution_count": null,
   "id": "14027e2e",
   "metadata": {},
   "outputs": [],
   "source": [
    "lab =\"FNIH_SHIMADZU_1_GO_2_2021-05-25\"\n",
    "df = dataframes[\"PLASMA\"][\"ABETA\"][lab][\"df\"]\n",
    "df = df[[\"RID\", \"VISCODE2\", \"AB1_42\", \"AB1_40\", \"update_stamp\"]]\n",
    "df = df.dropna()\n",
    "df[\"AB4240\"] = df[\"AB1_42\"]/df[\"AB1_40\"]\n",
    "df[\"source\"] = lab\n",
    "plasma_abeta[lab] = pd.DataFrame(df[[\"RID\", \"VISCODE2\", \"AB1_40\", \"AB1_40\", \"AB4240\", \"update_stamp\", \"source\"]])\n",
    "plasma_abeta[lab].columns = plasma_abeta_columns"
   ]
  },
  {
   "cell_type": "code",
   "execution_count": null,
   "id": "93c92a56",
   "metadata": {},
   "outputs": [],
   "source": [
    "if debug : plasma_abeta[lab].sample(5)"
   ]
  },
  {
   "cell_type": "markdown",
   "id": "796d70ba",
   "metadata": {},
   "source": [
    "**UPENN_1_**\n",
    " - Straightforward fields, some blank values\n",
    " - downloaded file : \"UPENN - Plasma Biomarker Data [ADNI1] \" - no upload date"
   ]
  },
  {
   "cell_type": "code",
   "execution_count": null,
   "id": "6d7c66b4",
   "metadata": {},
   "outputs": [],
   "source": [
    "lab =\"UPENN_1_\"\n",
    "df = dataframes[\"PLASMA\"][\"ABETA\"][lab][\"df\"]\n",
    "df = df.dropna()\n",
    "df[\"AB4240\"] = df[\"AB42\"]/df[\"AB40\"]\n",
    "df[\"source\"] = lab\n",
    "plasma_abeta[lab] = pd.DataFrame(df[[\"RID\", \"VISCODE\", \"AB42\", \"AB40\", \"AB4240\", \"update_stamp\", \"source\"]])\n",
    "plasma_abeta[lab].columns = plasma_abeta_columns"
   ]
  },
  {
   "cell_type": "code",
   "execution_count": null,
   "id": "a0de2f1f",
   "metadata": {},
   "outputs": [],
   "source": [
    "if debug: plasma_abeta[lab].sample(5)"
   ]
  },
  {
   "cell_type": "markdown",
   "id": "171154b8",
   "metadata": {},
   "source": [
    "**FNIH_UWASH_1_GO_2_2021-11-05**\n",
    " - Main fields (specified in TEXT in Dictionary) \n",
    "  - STANDARDIZED_PLASMAAB42\n",
    "  - STANDARDIZED_PLASMAAB40\n",
    "  - STANDARDIZED_PLASMAAB4240\n",
    " - 1 record with the field \"QC_FLAGS\" = \"(00) No signal\" has blank values for the above fields"
   ]
  },
  {
   "cell_type": "code",
   "execution_count": null,
   "id": "4411434f",
   "metadata": {},
   "outputs": [],
   "source": [
    "lab =\"FNIH_UWASH_1_GO_2_2021-11-05\"\n",
    "df = dataframes[\"PLASMA\"][\"ABETA\"][lab][\"df\"]\n",
    "df = df[~(~df.QC_FLAGS.isna() & df.QC_FLAGS.str.contains('No signal'))]\n",
    "df = df[[\"RID\", \"VISCODE2\", \"STANDARDIZED_PLASMAAB42\", \"STANDARDIZED_PLASMAAB40\"\n",
    "                                              ,\"STANDARDIZED_PLASMAAB4240\", \"update_stamp\"]]\n",
    "df = df.dropna()\n",
    "df[\"source\"] = lab\n",
    "plasma_abeta[lab] = pd.DataFrame(df)\n",
    "plasma_abeta[lab].columns = plasma_abeta_columns"
   ]
  },
  {
   "cell_type": "code",
   "execution_count": null,
   "id": "174c28c7",
   "metadata": {},
   "outputs": [],
   "source": [
    "if debug: plasma_abeta[lab].sample(5)"
   ]
  },
  {
   "cell_type": "markdown",
   "id": "dbc98c76",
   "metadata": {},
   "source": [
    "**ARACLON_1_GO_2_2016-02-16**"
   ]
  },
  {
   "cell_type": "code",
   "execution_count": null,
   "id": "ab80e6ab",
   "metadata": {},
   "outputs": [],
   "source": [
    "lab =\"ARACLON_1_GO_2_2016-02-16\"\n",
    "df = dataframes[\"PLASMA\"][\"ABETA\"][lab][\"df\"].drop(['FP40','FP42'], axis=1)\n",
    "df = df.replace('ND', np.NaN)\n",
    "df = df.replace('nd', np.NaN)\n",
    "df = df.replace('>ULOQ', np.NaN)\n",
    "df = df.dropna()\n",
    "df.TP42 = df.TP42.astype('float')\n",
    "df.TP40 = df.TP40.astype('float')\n",
    "df[\"AB4240\"] = df[\"TP42\"]/df[\"TP40\"]\n",
    "df[\"source\"] = lab\n",
    "plasma_abeta[lab] = pd.DataFrame(df[[\"RID\", \"VISCODE\", \"TP42\", \"TP40\", \"AB4240\", \"update_stamp\", \"source\"]])\n",
    "plasma_abeta[lab].columns = plasma_abeta_columns"
   ]
  },
  {
   "cell_type": "code",
   "execution_count": null,
   "id": "a9731015",
   "metadata": {},
   "outputs": [],
   "source": [
    "if debug: plasma_abeta[lab].sample(5)"
   ]
  },
  {
   "cell_type": "code",
   "execution_count": null,
   "id": "6fd647ad",
   "metadata": {},
   "outputs": [],
   "source": [
    "print('--')\n",
    "print('dataframe dictionary for PLASMA ABETA {}: plasma_abeta')\n",
    "print('with columns : ', plasma_abeta_columns)"
   ]
  },
  {
   "cell_type": "markdown",
   "id": "d41ae8ea",
   "metadata": {},
   "source": [
    "<a id=\"plasma-tau\" />"
   ]
  },
  {
   "cell_type": "markdown",
   "id": "97b0a0d1",
   "metadata": {},
   "source": [
    "**PLASMA Files with TAU measures**"
   ]
  },
  {
   "cell_type": "markdown",
   "id": "d0d70692",
   "metadata": {},
   "source": [
    "* General goal :\n",
    "    - A master dataset of PLASMA TAU measure from all the available labs\n",
    "* Main fields to be collected\n",
    "    - RID, VISCODE (or VISCODE2)\n",
    "    - PLASMATAU\n",
    "    - Some timestamp indicating the sample collection time, depending on the lab"
   ]
  },
  {
   "cell_type": "markdown",
   "id": "281547c3",
   "metadata": {},
   "source": [
    "**Collect the following fields from all the groups**"
   ]
  },
  {
   "cell_type": "code",
   "execution_count": null,
   "id": "b57d3452",
   "metadata": {},
   "outputs": [],
   "source": [
    "plasma_tau_columns = [\"RID\", \"VISCODE\", \"PLASMA_TAU\", \"update_stamp\", \"source\"]"
   ]
  },
  {
   "cell_type": "code",
   "execution_count": null,
   "id": "24da5134",
   "metadata": {},
   "outputs": [],
   "source": [
    "if debug:\n",
    "    for k in dataframes[\"PLASMA\"][\"TAU\"] :\n",
    "        #print('#lab =\"{}\"'.format(k))\n",
    "        print(k)"
   ]
  },
  {
   "cell_type": "markdown",
   "id": "3f5cd531",
   "metadata": {},
   "source": [
    "**Collect all PLASMA_TAU datasets in a standardized format**"
   ]
  },
  {
   "cell_type": "code",
   "execution_count": null,
   "id": "0f8d7932",
   "metadata": {},
   "outputs": [],
   "source": [
    "plasma_tau = {}"
   ]
  },
  {
   "cell_type": "markdown",
   "id": "4b7699f8",
   "metadata": {},
   "source": [
    "**BLENNOWLAB_1_2015-08-04**"
   ]
  },
  {
   "cell_type": "code",
   "execution_count": null,
   "id": "9938936c",
   "metadata": {},
   "outputs": [],
   "source": [
    "lab = \"BLENNOWLAB_1_2015-08-04\"\n",
    "df = dataframes[\"PLASMA\"][\"TAU\"][lab][\"df\"][[\"RID\", \"VISCODE\", \"PLASMATAU\", \"update_stamp\"]]\n",
    "df = df.dropna()\n",
    "df[\"source\"] = lab\n",
    "plasma_tau[lab] = pd.DataFrame(df)\n",
    "plasma_tau[lab].columns = plasma_tau_columns"
   ]
  },
  {
   "cell_type": "code",
   "execution_count": null,
   "id": "5984936f",
   "metadata": {},
   "outputs": [],
   "source": [
    "if debug: plasma_tau[lab].sample(5)"
   ]
  },
  {
   "cell_type": "code",
   "execution_count": null,
   "id": "4b1cf6ff",
   "metadata": {},
   "outputs": [],
   "source": [
    "if debug:\n",
    "    print('--')\n",
    "    print('dataframe dictionary for PLASMA TAU {}: plasma_tau')\n",
    "    print('with columns : ', plasma_tau_columns)"
   ]
  },
  {
   "cell_type": "markdown",
   "id": "16ca005e",
   "metadata": {},
   "source": [
    "<a id=\"plasma-ptau\" />"
   ]
  },
  {
   "cell_type": "markdown",
   "id": "6ef5244d",
   "metadata": {},
   "source": [
    "**PLASMA Files with P-TAU181 measures**"
   ]
  },
  {
   "cell_type": "markdown",
   "id": "37a81f04",
   "metadata": {},
   "source": [
    "* General goal :\n",
    "    - A master dataset of PLASMA P-TAU181 measure from all the available labs\n",
    "* Main fields to be collected\n",
    "    - RID, VISCODE (or VISCODE2)\n",
    "    - PLASMAPTAU181\n",
    "    - Some timestamp indicating the sample collection time, depending on the lab"
   ]
  },
  {
   "cell_type": "markdown",
   "id": "09cfe0e2",
   "metadata": {},
   "source": [
    "**Collect the following fields from all the groups**"
   ]
  },
  {
   "cell_type": "code",
   "execution_count": null,
   "id": "91e7782f",
   "metadata": {},
   "outputs": [],
   "source": [
    "plasma_ptau_columns = [\"RID\", \"VISCODE\", \"PLASMA_PTAU\", \"update_stamp\", \"source\"]"
   ]
  },
  {
   "cell_type": "code",
   "execution_count": null,
   "id": "5707b61b-88b0-425c-bd07-41c5eb084302",
   "metadata": {},
   "outputs": [],
   "source": []
  },
  {
   "cell_type": "code",
   "execution_count": null,
   "id": "000ee8d4",
   "metadata": {},
   "outputs": [],
   "source": [
    "if debug:\n",
    "    for k in dataframes[\"PLASMA\"][\"PTAU\"] :\n",
    "        #print('#lab =\"{}\"'.format(k))\n",
    "        print(k)"
   ]
  },
  {
   "cell_type": "markdown",
   "id": "ad01241a",
   "metadata": {},
   "source": [
    "**Collect all PLASMA_PTAU181 datasets in a standardized format**"
   ]
  },
  {
   "cell_type": "code",
   "execution_count": null,
   "id": "5b36cf8a",
   "metadata": {},
   "outputs": [],
   "source": [
    "plasma_ptau = {}"
   ]
  },
  {
   "cell_type": "markdown",
   "id": "31faebb9",
   "metadata": {},
   "source": [
    "**GOTHENBURG_1_GO_2_2020-06-18**"
   ]
  },
  {
   "cell_type": "code",
   "execution_count": null,
   "id": "a9f80560",
   "metadata": {},
   "outputs": [],
   "source": [
    "measure = \"PTAU\"\n",
    "lab = \"GOTHENBURG_1_GO_2_2020-06-18\"\n",
    "df = dataframes[\"PLASMA\"][measure][lab][\"df\"][[\"RID\", \"VISCODE2\", \"PLASMAPTAU181\", \"update_stamp\"]]\n",
    "df = df.dropna()\n",
    "df[\"source\"] = lab\n",
    "plasma_ptau[lab] = pd.DataFrame(df)\n",
    "plasma_ptau[lab].columns = plasma_ptau_columns"
   ]
  },
  {
   "cell_type": "code",
   "execution_count": null,
   "id": "4c42d252",
   "metadata": {},
   "outputs": [],
   "source": [
    "if debug: plasma_ptau[lab].sample(5)"
   ]
  },
  {
   "cell_type": "code",
   "execution_count": null,
   "id": "38210997",
   "metadata": {},
   "outputs": [],
   "source": [
    "if debug :\n",
    "    print('--')\n",
    "    print('dataframe dictionary for PLASMA PTAU181 {}: plasma_ptau')\n",
    "    print('with columns : ', plasma_ptau_columns)"
   ]
  },
  {
   "cell_type": "markdown",
   "id": "e7643027",
   "metadata": {},
   "source": [
    "<a id=\"plasma-nfl\" />"
   ]
  },
  {
   "cell_type": "markdown",
   "id": "37c9a2c3",
   "metadata": {},
   "source": [
    "**PLASMA Files with Neurofilament Light(NFL) measures**"
   ]
  },
  {
   "cell_type": "markdown",
   "id": "379f3b47",
   "metadata": {},
   "source": [
    "* General goal :\n",
    "    - A master dataset of PLASMA NFL measure from all the available labs\n",
    "* Main fields to be collected\n",
    "    - RID, VISCODE (or VISCODE2)\n",
    "    - PLASMA_NFL\n",
    "    - Some timestamp indicating the sample collection time, depending on the lab"
   ]
  },
  {
   "cell_type": "markdown",
   "id": "77af57dd",
   "metadata": {},
   "source": [
    "**Collect the following fields from all the groups**"
   ]
  },
  {
   "cell_type": "code",
   "execution_count": null,
   "id": "bc81974a",
   "metadata": {},
   "outputs": [],
   "source": [
    "plasma_nfl_columns = [\"RID\", \"VISCODE\", \"PLASMA_NFL\", \"update_stamp\", \"source\"]"
   ]
  },
  {
   "cell_type": "code",
   "execution_count": null,
   "id": "9fd25b97",
   "metadata": {},
   "outputs": [],
   "source": [
    "if debug:\n",
    "    for k in dataframes[\"PLASMA\"][\"NFL\"] :\n",
    "        print('#lab =\"{}\"'.format(k))\n",
    "        #print(k)"
   ]
  },
  {
   "cell_type": "markdown",
   "id": "39de7d7e",
   "metadata": {},
   "source": [
    "**Collect all PLASMA_NFL datasets in a standardized format**"
   ]
  },
  {
   "cell_type": "code",
   "execution_count": null,
   "id": "45f3634c",
   "metadata": {},
   "outputs": [],
   "source": [
    "plasma_nfl = {}"
   ]
  },
  {
   "cell_type": "code",
   "execution_count": null,
   "id": "742cdec7",
   "metadata": {
    "scrolled": true
   },
   "outputs": [],
   "source": [
    "if debug:\n",
    "    lab =\"BLENNOWLAB_ADNI_1_2018-10-03\"\n",
    "    lab =\"BLENNOWLAB_1_GO_2_2018-10-03\"\n",
    "    print(lab)\n",
    "    df = dataframes[\"PLASMA\"][\"NFL\"][lab][\"df\"]\n",
    "    df\n",
    "    #print(df.columns)\n",
    "    #dict_unc = dataframes[\"PLASMA\"][\"NFL\"][lab][\"dict\"]\n",
    "    #dict_unc[[\"FLDNAME\", \"TEXT\"]]\n",
    "    #df.info()"
   ]
  },
  {
   "cell_type": "markdown",
   "id": "cecd2e1d",
   "metadata": {},
   "source": [
    "**BLENNOWLAB_ADNI_1_2018-10-03**"
   ]
  },
  {
   "cell_type": "code",
   "execution_count": null,
   "id": "2e9e4cc2",
   "metadata": {},
   "outputs": [],
   "source": [
    "measure = \"NFL\"\n",
    "lab = \"BLENNOWLAB_ADNI_1_2018-10-03\"\n",
    "df = dataframes[\"PLASMA\"][measure][lab][\"df\"][[\"RID\", \"VISCODE2\", \"PLASMA_NFL\", \"update_stamp\"]]\n",
    "df = df.dropna()\n",
    "df[\"source\"] = lab\n",
    "plasma_nfl[lab] = pd.DataFrame(df)\n",
    "plasma_nfl[lab].columns = plasma_nfl_columns"
   ]
  },
  {
   "cell_type": "code",
   "execution_count": null,
   "id": "c7233f11",
   "metadata": {
    "scrolled": true
   },
   "outputs": [],
   "source": [
    "if debug: plasma_nfl[lab].sample(5)"
   ]
  },
  {
   "cell_type": "markdown",
   "id": "cfb48d59",
   "metadata": {},
   "source": [
    "**BLENNOWLAB_LONG_1_GO_2_2018-10-03**"
   ]
  },
  {
   "cell_type": "code",
   "execution_count": null,
   "id": "d3875437",
   "metadata": {},
   "outputs": [],
   "source": [
    "measure = \"NFL\"\n",
    "lab = \"BLENNOWLAB_1_GO_2_2018-10-03\"\n",
    "df = dataframes[\"PLASMA\"][measure][lab][\"df\"][[\"RID\", \"VISCODE2\", \"PLASMA_NFL\", \"update_stamp\"]]\n",
    "df = df.dropna()\n",
    "df[\"source\"] = lab\n",
    "plasma_nfl[lab] = pd.DataFrame(df)\n",
    "plasma_nfl[lab].columns = plasma_nfl_columns"
   ]
  },
  {
   "cell_type": "code",
   "execution_count": null,
   "id": "31bba6b7",
   "metadata": {},
   "outputs": [],
   "source": [
    "if debug :\n",
    "    print('--')\n",
    "    print('dataframe dictionary for PLASMA NFL {}: plasma_nfl')\n",
    "    print('with columns : ', plasma_nfl_columns)"
   ]
  },
  {
   "cell_type": "code",
   "execution_count": null,
   "id": "a80bb812",
   "metadata": {
    "scrolled": true
   },
   "outputs": [],
   "source": [
    "plasma_nfl_all = pd.concat([plasma_nfl[lab] for lab in plasma_nfl])\n",
    "plasma_nfl_all = plasma_nfl_all[plasma_nfl_all.VISCODE != 'nv']\n",
    "pnfl_all = plasma_nfl_all.groupby(['RID', 'VISCODE']).size().reset_index(name='counts')\n",
    "plasma_nfl_all_dupes = plasma_nfl_all[plasma_nfl_all.duplicated(['RID','VISCODE'], keep=False)]\n",
    "pnfl_all_sources = plasma_nfl_all_dupes.groupby(['RID', 'VISCODE'])['source'].apply(lambda x: ','.join(x)).reset_index()\n",
    "#pab_all\n",
    "#pnfl_all[pnfl_all['counts'] > 1]\n",
    "#['source'].apply(lambda x: ','.join(x)).reset_index()\n",
    "#pnfl_all_sources"
   ]
  },
  {
   "cell_type": "code",
   "execution_count": null,
   "id": "d48c10ef",
   "metadata": {
    "scrolled": true
   },
   "outputs": [],
   "source": [
    "dfb1 = plasma_nfl[\"BLENNOWLAB_ADNI_1_2018-10-03\"].copy()\n",
    "dfb2 = plasma_nfl[\"BLENNOWLAB_1_GO_2_2018-10-03\"].copy()\n",
    "dfb1 = dfb1.reset_index(drop=True)\n",
    "#dfb1.merge(dfb2, how='inner', on=['RID', 'VISCODE'])"
   ]
  },
  {
   "cell_type": "markdown",
   "id": "851abf27",
   "metadata": {},
   "source": [
    "<a id=\"plasma-questions\" />"
   ]
  },
  {
   "cell_type": "markdown",
   "id": "98203784",
   "metadata": {},
   "source": [
    "#### PLASMA Questions \n",
    "* PLASMA\n",
    "    - NFL \n",
    "         * Two available files from BLENNOWLAB :\n",
    "         * 1. Blennow Lab ADNI1 Plasma neurofilament light (NFL) [ADNI1] \n",
    "         * 2. Blennow Lab ADNI1-2 Plasma neurofilament light (NFL) longitudinal [ADNI1,GO,2] \n",
    "         * Both have non-overlapping RID+VISCODE combinations\n",
    "         * File 2 mentions \"Longitudinal\" and has 53 duplicate entries (each RID+VISCODE combo twice, each on the same day differing in their DRAW_TIME and PLASMA_NFL value).\n",
    "         * Average value for these cases?\n",
    "    - AB42/AB40\n",
    "         * ARACLON\n",
    "          - Difference between \"Free ABeta40 in plasma\" and \"Total ABeta40 in plasma\" (same with ABeta42)\n",
    "          - Some values are \"ND\" or \">ULOQ\", mostly 42, one 40\n",
    "         * FNIH_UWASH\n",
    "          - Specified in their Dictionary : Use STANDARDIZED_PLASMAAB4240\n",
    "         * UPENN_1_\n",
    "          - \"UPENN - Plasma Biomarker Data [ADNI1] \" - no upload date\n",
    "          - AB42 and AB40 units are different from others\n",
    "         * FNIH_SHIMADZU\n",
    "          - New field : COMPOSITE_BIOMARKER (APP669711/AB 142 and AB 140/AB 142)\n",
    "          - Take 'AB1_42' and 'AB1_40' and calculate ratio?\n",
    "         * BATEMAN Lab\n",
    "          - Both AB42 qnd AB40 : Values for N14 and N15 ? (for e.g: PEAK_AREA_ABETA40_N14_TOUSE\tvs PEAK_AREA_ABETA40_N15_TOUSE)\n",
    "          - Mentioned : endogenous A40 (N14) and 15N labeled A40 internal standard (N15)\n",
    "          - Choose N15 values?\n",
    "          - Some records with QC_FLAGS = '00 No Ab signal;' or QC_STATUS = 'FAIL' still have non-zero ratio AB42/40. Is that normal?\n",
    "         * FNIH_QUANTERIX\n",
    "          - Two probable fields (for each of AB42 and AB40). Check the following three fields\n",
    "            * AB1_40_AVE_CONC\tAB1-40 average of the calibrated concentrations\n",
    "            * AB1_40_DILUTION_FACTOR\tAB1-40 dilution factor. Plasma samples were diluted 4-fold.\n",
    "            * AB1_40_DILUTION_CORRECTED_CONC\tDilution corrected AB1-40 concentration of analyte in pg/mL \n",
    "          - Prefer AB1_40_DILUTION_CORRECTED_CONC ?"
   ]
  },
  {
   "cell_type": "markdown",
   "id": "3ff11916",
   "metadata": {},
   "source": [
    " - RID\n",
    " - VISCODE = bl, m06 etc.. if any dataset has 'VISCODE2', use that\n",
    "     sc = bl\n",
    "     f = failed\n",
    " - Ignore PTID\n",
    " - DX_bl : Diagnosis Baseline\n",
    " - DX \n",
    " - CSF - \n",
    " - Plasma Abeta42/Abeta40 Bateman\n",
    " - Gothenburg - P-tau, Abeta\n",
    " - NFL\n",
    " - MRI - some in ADNIMERGE\n",
    " - PET : AV1451 - tau\n",
    "         AV45 - Abeta\n",
    "          - FDG, measure for glucose metabolism\n",
    "          \n",
    "          \n",
    "#### For each of the individual datasets, check RID+VISCODE combo, and verify if there are repetitions and why\n",
    "\n",
    "* 15748 --> ADNIMERGE\n",
    "* PET :\n",
    "        Abeta : 2998 --> PET_AV45_UCB-1_GO_2_3\n",
    "        Tau : 1304 --> PET_AV1451_UCB-1_GO_2_3 -> Sounds right\n",
    "* CSF :\n",
    "        ABETA, PTAU, TAU, AB42/40: 216 --> CSF_UPENN_ELECSYS-1_GO_2_3  -> XXXX not complete\n",
    "* PLASMA :\n",
    "        PTAU : 3758 --> PLASMA_GOTHENBURG-1_GO_2 -> Sounds right\n",
    "        ABETA42/40 : 622 --> PLASMA_BATEMAN -> XXXX not what we're looking for. \n",
    "        NFL : 3762 --> PLASMA_NFL_BLENNOWLAB-1_GO_2 -> Sounds right\n",
    "* MRI :\n",
    "       3570 --> MRI_FREESURF_UCSF_1\n",
    "       3311 --> MRI_FREESURF_UCSF_GO_2 -> Sounds right"
   ]
  },
  {
   "cell_type": "code",
   "execution_count": null,
   "id": "7840afd3",
   "metadata": {},
   "outputs": [],
   "source": [
    "def incidentDem() :\n",
    "    dfa = ADNIMERGE[['RID', 'Month', 'DX_bl', 'DX']]\n",
    "\n",
    "    dfa['Incident_Dem'] = (~dfa['DX_bl'].str.contains('AD', na=False)) & dfa['DX'].str.contains('Dement', na=False)\n",
    "\n",
    "    dfa = dfa.fillna('-')\n",
    "    dfa = dfa.sort_values(by=['RID', 'Month'])\n",
    "\n",
    "    dfa.Incident_Dem = dfa.Incident_Dem.astype('int')\n",
    "    dfa.Incident_Dem = dfa.Incident_Dem.astype('string')\n",
    "    dfa.DX_bl = dfa.DX_bl.astype('string')\n",
    "    dfa.DX = dfa.DX.astype('string')\n",
    "    dfa.Month = dfa.Month.astype('string')\n",
    "\n",
    "    newdf = dfa.groupby(['RID']).agg(lambda x: ','.join(x))\n",
    "\n",
    "    return newdf"
   ]
  }
 ],
 "metadata": {
  "kernelspec": {
   "display_name": "Python 3 (ipykernel)",
   "language": "python",
   "name": "python3"
  },
  "language_info": {
   "codemirror_mode": {
    "name": "ipython",
    "version": 3
   },
   "file_extension": ".py",
   "mimetype": "text/x-python",
   "name": "python",
   "nbconvert_exporter": "python",
   "pygments_lexer": "ipython3",
   "version": "3.9.4"
  },
  "toc": {
   "base_numbering": 1,
   "nav_menu": {},
   "number_sections": true,
   "sideBar": true,
   "skip_h1_title": false,
   "title_cell": "Table of Contents",
   "title_sidebar": "Contents",
   "toc_cell": false,
   "toc_position": {},
   "toc_section_display": true,
   "toc_window_display": true
  }
 },
 "nbformat": 4,
 "nbformat_minor": 5
}
