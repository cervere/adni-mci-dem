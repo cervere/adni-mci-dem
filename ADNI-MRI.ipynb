{
 "cells": [
  {
   "cell_type": "code",
   "execution_count": 1,
   "id": "aa0ebbe7",
   "metadata": {},
   "outputs": [],
   "source": [
    "from IPython.display import display, Markdown, Latex"
   ]
  },
  {
   "cell_type": "markdown",
   "id": "b5125243",
   "metadata": {},
   "source": [
    "### Volumetric MRI Brain Regions\n",
    "\n",
    "#### REF : The fields available in A4 data, under the field \"VolumetricMRI\" and their corresponding Freesurfer names in ADNI datasets :\n",
    "* UCSF_FS4_1_GO_2_2015-11-02\n",
    "* UCSF_FS5_1_GO_2_2021-12-13 (Using this)\n",
    "* UCSF_FS6_3_2021-12-13 (Using this)"
   ]
  },
  {
   "cell_type": "code",
   "execution_count": 2,
   "id": "896bd4f2",
   "metadata": {
    "scrolled": true
   },
   "outputs": [
    {
     "name": "stdout",
     "output_type": "stream",
     "text": [
      "The mapping of Brain region to ADNI MRI FreeSurfer column :\n"
     ]
    },
    {
     "data": {
      "text/markdown": [
       "`MRI_REGIONS_VOLUME`"
      ],
      "text/plain": [
       "<IPython.core.display.Markdown object>"
      ]
     },
     "metadata": {},
     "output_type": "display_data"
    }
   ],
   "source": [
    "MRI_REGIONS_VOLUME = {\n",
    "\"LeftThalamus\" : \"ST61SV\",\n",
    "\"RightThalamus\" : \"ST120SV\",\n",
    "\"LeftCaudate\" : \"ST16SV\",\n",
    "\"RightCaudate\" : \"ST75SV\",\n",
    "\"LeftPutamen\" : \"ST53SV\",\n",
    "\"RightPutamen\" : \"ST112SV\",\n",
    "\"LeftPallidum\" : \"ST42SV\",\n",
    "\"RightPallidum\" : \"ST101SV\",\n",
    "\"LeftHippocampus\" : \"ST29SV\",\n",
    "\"RightHippocampus\" : \"ST88SV\",\n",
    "\"LeftAmygdala\" : \"ST12SV\",\n",
    "\"RightAmygdala\" : \"ST71SV\",\n",
    "\"LeftEntorhinal\" : \"ST24CV\",\n",
    "\"RightEntorhinal\" : \"ST83CV\",\n",
    "\"LeftFusiform\" : \"ST26CV\",\n",
    "\"RightFusiform\" : \"ST85CV\",\n",
    "\"LeftInferiorParietal\" : \"ST31CV\",\n",
    "\"RightInferiorParietal\" : \"ST90CV\",\n",
    "\"LeftInferiorTemporal\" : \"ST32CV\",\n",
    "\"RightInferiorTemporal\" : \"ST91CV\",\n",
    "\"LeftMiddleTemporal\" : \"ST40CV\",\n",
    "\"RightMiddleTemporal\" : \"ST99CV\",\n",
    "\"LeftParahippocampal\" : \"ST44CV\",\n",
    "\"RightParahippocampal\" : \"ST103CV\",\n",
    "\"LeftSuperiorFrontal\" : \"ST56CV\",\n",
    "\"RightSuperiorFrontal\" : \"ST115CV\",\n",
    "\"LeftSuperiorParietal\" : \"ST57CV\",\n",
    "\"RightSuperiorParietal\" : \"ST116CV\",\n",
    "\"LeftSuperiorTemporal\" : \"ST58CV\",\n",
    "\"RightSuperiorTemporal\" : \"ST117CV\",\n",
    "\"LeftTemporalPole\" : \"ST60CV\",\n",
    "\"RightTemporalPole\" : \"ST119CV\",\n",
    "\"ICV\" : \"ST10CV\"\n",
    "}\n",
    "print(\"The mapping of Brain region to ADNI MRI FreeSurfer column :\")\n",
    "display(Markdown('`MRI_REGIONS_VOLUME`'))"
   ]
  },
  {
   "cell_type": "code",
   "execution_count": 3,
   "id": "41ad8f63",
   "metadata": {},
   "outputs": [],
   "source": [
    "MRI_REGIONS_SURFACE_AREA = {\n",
    "\"LeftEntorhinal\" : \"ST24SA\",\n",
    "\"RightEntorhinal\" : \"ST83SA\",\n",
    "\"LeftFusiform\" : \"ST26SA\",\n",
    "\"RightFusiform\" : \"ST85SA\",\n",
    "\"LeftInferiorParietal\" : \"ST31SA\",\n",
    "\"RightInferiorParietal\" : \"ST90SA\",\n",
    "\"LeftInferiorTemporal\" : \"ST32SA\",\n",
    "\"RightInferiorTemporal\" : \"ST91SA\",\n",
    "\"LeftMiddleTemporal\" : \"ST40SA\",\n",
    "\"RightMiddleTemporal\" : \"ST99SA\",\n",
    "\"LeftParahippocampal\" : \"ST44SA\",\n",
    "\"RightParahippocampal\" : \"ST103SA\",\n",
    "\"LeftSuperiorFrontal\" : \"ST56SA\",\n",
    "\"RightSuperiorFrontal\" : \"ST115SA\",\n",
    "\"LeftSuperiorParietal\" : \"ST57SA\",\n",
    "\"RightSuperiorParietal\" : \"ST116SA\",\n",
    "\"LeftSuperiorTemporal\" : \"ST58SA\",\n",
    "\"RightSuperiorTemporal\" : \"ST117SA\",\n",
    "\"LeftTemporalPole\" : \"ST60SA\",\n",
    "\"RightTemporalPole\" : \"ST119SA\"\n",
    "}"
   ]
  },
  {
   "cell_type": "code",
   "execution_count": 4,
   "id": "1c7a6fab",
   "metadata": {},
   "outputs": [
    {
     "data": {
      "text/markdown": [
       "*For future purposes, surface area of some regions is also available*"
      ],
      "text/plain": [
       "<IPython.core.display.Markdown object>"
      ]
     },
     "metadata": {},
     "output_type": "display_data"
    },
    {
     "data": {
      "text/markdown": [
       "`MRI_REGIONS_SURFACE_AREA`"
      ],
      "text/plain": [
       "<IPython.core.display.Markdown object>"
      ]
     },
     "metadata": {},
     "output_type": "display_data"
    }
   ],
   "source": [
    "display(Markdown('*For future purposes, surface area of some regions is also available*'))\n",
    "display(Markdown('`MRI_REGIONS_SURFACE_AREA`'))"
   ]
  },
  {
   "cell_type": "code",
   "execution_count": null,
   "id": "63f1c653",
   "metadata": {},
   "outputs": [],
   "source": []
  },
  {
   "cell_type": "code",
   "execution_count": null,
   "id": "d4c6c31d",
   "metadata": {},
   "outputs": [],
   "source": []
  }
 ],
 "metadata": {
  "kernelspec": {
   "display_name": "Python 3 (ipykernel)",
   "language": "python",
   "name": "python3"
  },
  "language_info": {
   "codemirror_mode": {
    "name": "ipython",
    "version": 3
   },
   "file_extension": ".py",
   "mimetype": "text/x-python",
   "name": "python",
   "nbconvert_exporter": "python",
   "pygments_lexer": "ipython3",
   "version": "3.9.4"
  },
  "toc": {
   "base_numbering": 1,
   "nav_menu": {},
   "number_sections": true,
   "sideBar": true,
   "skip_h1_title": false,
   "title_cell": "Table of Contents",
   "title_sidebar": "Contents",
   "toc_cell": false,
   "toc_position": {},
   "toc_section_display": true,
   "toc_window_display": false
  }
 },
 "nbformat": 4,
 "nbformat_minor": 5
}
