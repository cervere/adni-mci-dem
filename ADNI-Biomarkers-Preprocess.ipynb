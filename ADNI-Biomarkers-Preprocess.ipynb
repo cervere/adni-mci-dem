{
 "cells": [
  {
   "cell_type": "markdown",
   "id": "5369c5d5-4ad7-43de-8d70-b854060d5a6b",
   "metadata": {
    "slideshow": {
     "slide_type": "skip"
    },
    "tags": []
   },
   "source": [
    "# Load ADNIMERGE"
   ]
  },
  {
   "cell_type": "code",
   "execution_count": 13,
   "id": "62c8e774",
   "metadata": {
    "slideshow": {
     "slide_type": "skip"
    }
   },
   "outputs": [],
   "source": [
    "import functools"
   ]
  },
  {
   "cell_type": "code",
   "execution_count": 14,
   "id": "ee412ba8",
   "metadata": {
    "scrolled": true,
    "slideshow": {
     "slide_type": "skip"
    }
   },
   "outputs": [
    {
     "data": {
      "text/markdown": [
       "Following locations can be used : "
      ],
      "text/plain": [
       "<IPython.core.display.Markdown object>"
      ]
     },
     "metadata": {},
     "output_type": "display_data"
    },
    {
     "data": {
      "text/markdown": [
       "`NOTEBOOKS_DIR`, `MANUSCRIPT_DIR`, `CODE_DIR`, `DATA_DIR`"
      ],
      "text/plain": [
       "<IPython.core.display.Markdown object>"
      ]
     },
     "metadata": {},
     "output_type": "display_data"
    },
    {
     "data": {
      "text/markdown": [
       "Following locations can be used : "
      ],
      "text/plain": [
       "<IPython.core.display.Markdown object>"
      ]
     },
     "metadata": {},
     "output_type": "display_data"
    },
    {
     "data": {
      "text/markdown": [
       "`NOTEBOOKS_DIR`, `MANUSCRIPT_DIR`, `CODE_DIR`, `DATA_DIR`"
      ],
      "text/plain": [
       "<IPython.core.display.Markdown object>"
      ]
     },
     "metadata": {},
     "output_type": "display_data"
    },
    {
     "data": {
      "text/markdown": [
       "Use `loadCSVtoDF` to load data into dataframes from folder: `SOME_DATA_DIR/raw/SOME_DATASET/SOME_MARKER/SOME_LAB` "
      ],
      "text/plain": [
       "<IPython.core.display.Markdown object>"
      ]
     },
     "metadata": {},
     "output_type": "display_data"
    },
    {
     "data": {
      "application/javascript": [
       "IPython.OutputArea.prototype._should_scroll = function(lines) {\n",
       "    return false;\n",
       "}\n"
      ],
      "text/plain": [
       "<IPython.core.display.Javascript object>"
      ]
     },
     "metadata": {},
     "output_type": "display_data"
    },
    {
     "name": "stdout",
     "output_type": "stream",
     "text": [
      "-----------------------\n",
      "Dataframes are available in the object - dataframes - with keys as [dataset], [marker], [file], [df | dict]\n",
      "\n",
      "E.g : dataframes[\"PLASMA\"][\"ABETA\"][\"FNIH_SHIMADZU_1_GO_2_2021-05-25\"][\"df\"] and \n",
      "dataframes[\"PLASMA\"][\"ABETA\"][\"FNIH_SHIMADZU_1_GO_2_2021-05-25\"][\"dict\"] and \n",
      "\n",
      "If the dataset is of not a specific measure, they are under the marker - ALL\n",
      "E.g : dataframes[\"CSF\"][\"ALL\"][\"LOCALLAB_1_GO_2_3_2022-01-24\"][\"df\"] \n"
     ]
    },
    {
     "data": {
      "text/html": [
       "        <script type=\"text/javascript\">\n",
       "        window.PlotlyConfig = {MathJaxConfig: 'local'};\n",
       "        if (window.MathJax && window.MathJax.Hub && window.MathJax.Hub.Config) {window.MathJax.Hub.Config({SVG: {font: \"STIX-Web\"}});}\n",
       "        if (typeof require !== 'undefined') {\n",
       "        require.undef(\"plotly\");\n",
       "        requirejs.config({\n",
       "            paths: {\n",
       "                'plotly': ['https://cdn.plot.ly/plotly-2.14.0.min']\n",
       "            }\n",
       "        });\n",
       "        require(['plotly'], function(Plotly) {\n",
       "            window._Plotly = Plotly;\n",
       "        });\n",
       "        }\n",
       "        </script>\n",
       "        "
      ]
     },
     "metadata": {},
     "output_type": "display_data"
    },
    {
     "name": "stdout",
     "output_type": "stream",
     "text": [
      "df\n",
      "dict\n",
      "The mapping of Brain region to ADNI MRI FreeSurfer column :\n"
     ]
    },
    {
     "data": {
      "text/markdown": [
       "`MRI_REGIONS_VOLUME`"
      ],
      "text/plain": [
       "<IPython.core.display.Markdown object>"
      ]
     },
     "metadata": {},
     "output_type": "display_data"
    },
    {
     "data": {
      "text/markdown": [
       "*For future purposes, surface area of some regions is also available*"
      ],
      "text/plain": [
       "<IPython.core.display.Markdown object>"
      ]
     },
     "metadata": {},
     "output_type": "display_data"
    },
    {
     "data": {
      "text/markdown": [
       "`MRI_REGIONS_SURFACE_AREA`"
      ],
      "text/plain": [
       "<IPython.core.display.Markdown object>"
      ]
     },
     "metadata": {},
     "output_type": "display_data"
    },
    {
     "name": "stdout",
     "output_type": "stream",
     "text": [
      "--\n",
      "dataframe dictionary for PLASMA ABETA {}: plasma_abeta\n",
      "with columns :  ['RID', 'VISCODE', 'PLASMA_AB42', 'PLASMA_AB40', 'PLASMA_AB4240', 'update_stamp', 'source']\n"
     ]
    }
   ],
   "source": [
    "%run ./ADNIMERGE-Exploration.ipynb"
   ]
  },
  {
   "cell_type": "markdown",
   "id": "28d710e0-e43c-4688-babb-bb97ec5ec250",
   "metadata": {
    "slideshow": {
     "slide_type": "skip"
    },
    "tags": []
   },
   "source": [
    "# Data from biomarkers\n",
    "* PET\n",
    "* MRI\n",
    "* CSF\n",
    "* Blood Plasma"
   ]
  },
  {
   "cell_type": "markdown",
   "id": "99b9d946-ea9b-4e4e-9a13-9d745ee33f0d",
   "metadata": {
    "heading_collapsed": true,
    "slideshow": {
     "slide_type": "skip"
    }
   },
   "source": [
    "##  PET Data"
   ]
  },
  {
   "cell_type": "code",
   "execution_count": 15,
   "id": "0f36dab4",
   "metadata": {
    "hidden": true,
    "slideshow": {
     "slide_type": "skip"
    }
   },
   "outputs": [],
   "source": [
    "PET_ABETA = pet_abeta[\"UCB_AV45_1_GO_2_3_2021-11-16\"]\n",
    "PET_ABETA[\"ABP\"] = PET_ABETA[\"PET_SUVR_ABETA\"] >= 1.11 #Refer methods pdf\n",
    "PET_ABETA[\"ABP_HIGH\"] = PET_ABETA[\"PET_SUVR_ABETA\"] >= 1.19 #Refer methods pdf #Comparison of Pittsburgh compound B and florbetapir in cross-sectional and longitudinal studies\n",
    "# Yi Su 2019\n",
    "PET_ABETA.ABP = PET_ABETA.ABP.astype(int)\n",
    "PET_ABETA.ABP_HIGH = PET_ABETA.ABP_HIGH.astype(int)"
   ]
  },
  {
   "cell_type": "code",
   "execution_count": 16,
   "id": "29384114-7f1b-42ee-b87b-b5ba0e112c15",
   "metadata": {},
   "outputs": [
    {
     "data": {
      "text/plain": [
       "RID               0\n",
       "VISCODE           0\n",
       "PET_SUVR_ABETA    0\n",
       "update_stamp      0\n",
       "source            0\n",
       "ABP               0\n",
       "ABP_HIGH          0\n",
       "dtype: int64"
      ]
     },
     "execution_count": 16,
     "metadata": {},
     "output_type": "execute_result"
    }
   ],
   "source": [
    "PET_ABETA.isnull().sum()"
   ]
  },
  {
   "cell_type": "markdown",
   "id": "4ed93902-374e-42a0-b4f6-5904b405a5d0",
   "metadata": {
    "heading_collapsed": true,
    "slideshow": {
     "slide_type": "skip"
    },
    "tags": []
   },
   "source": [
    "##  MRI Data"
   ]
  },
  {
   "cell_type": "code",
   "execution_count": 6,
   "id": "f63d5c5c-c080-4169-a251-474abbe3ced6",
   "metadata": {
    "hidden": true,
    "slideshow": {
     "slide_type": "skip"
    }
   },
   "outputs": [
    {
     "name": "stdout",
     "output_type": "stream",
     "text": [
      "MRI Sources :  UCSF_FS5_1_GO_2_2021-12-13, UCSF_FS6_3_2021-12-13\n"
     ]
    }
   ],
   "source": [
    "def getNulls(df) :\n",
    "    df = df.isna().sum().reset_index(name='nulls')\n",
    "    return df[df['nulls'] > 0]\n",
    "\n",
    "def getNormalisedMRIData(MRI_DATA, columns=None) :\n",
    "    MRI_MEAN_POPULATION = MRI_DATA[MRI_DATA[\"VISCODE\"] == \"bl\"].drop(columns=[\"RID\", \"VISCODE\"]).mean()\n",
    "    df = MRI_DATA.copy()\n",
    "    if columns is not None :\n",
    "        df = df[columns + ['VOL_ICV']]\n",
    "    mri_fields = df.drop(['RID', 'VISCODE', 'VOL_ICV'], axis=1).columns.tolist()\n",
    "    for mri_field in mri_fields:\n",
    "        df[mri_field] = MRI_MEAN_POPULATION[mri_field] * (df[mri_field]/df['VOL_ICV'])\n",
    "    return df\n",
    "\n",
    "print('MRI Sources : ', ', '.join([source for source in mri_hipp]))\n",
    "MRI_ALL = pd.concat([mri_hipp[source].dropna() for source in mri_hipp])\n",
    "MRI_ALL['VISCODE'].replace('scmri', 'bl', inplace=True)\n",
    "MRI_ALL['VISCODE'].replace('sc', 'bl', inplace=True)\n",
    "# Average duplicates by RID, VISCODE\n",
    "MRI_ALL_AVG = MRI_ALL.groupby(['RID', 'VISCODE'], as_index=False).mean()\n",
    "MRI_ICV_NORMALISED = getNormalisedMRIData(MRI_ALL_AVG)\n",
    "MRI_ICV_NORMALISED;"
   ]
  },
  {
   "cell_type": "markdown",
   "id": "04650e82-98f7-4adb-9fd2-caede0647eb4",
   "metadata": {
    "heading_collapsed": true,
    "slideshow": {
     "slide_type": "skip"
    }
   },
   "source": [
    "##  CSF Data"
   ]
  },
  {
   "cell_type": "code",
   "execution_count": 34,
   "id": "7b4f250e-ac0a-41fc-8d7a-b5786642e15f",
   "metadata": {
    "hidden": true,
    "slideshow": {
     "slide_type": "skip"
    }
   },
   "outputs": [
    {
     "name": "stdout",
     "output_type": "stream",
     "text": [
      "CSF Sources considered:  UPENN_ELECSYS_3_Bt1_2019-07-29, UPENN_ELECSYS_1_GO_2_2017-04-19, UPENN_ELECSYS_1_GO_2_3_2021-01-04\n"
     ]
    }
   ],
   "source": [
    "print('CSF Sources considered: ', ', '.join(filter(lambda source: (source != 'UPENN_DIAN_1_GO_2_2018-04-09') and (source != 'UPENN_MASTER_1_GO_2_2018-04-09'), [source for source in csf_all])))\n",
    "CSF_ALL = pd.concat([csf_all[source] for source in csf_all])\n",
    "#CSF_ALL = CSF_ALL.dropna()\n",
    "CSF_ALL = CSF_ALL[(CSF_ALL.source != 'UPENN_DIAN_1_GO_2_2018-04-09') & (CSF_ALL.source != 'UPENN_MASTER_1_GO_2_2018-04-09') ]"
   ]
  },
  {
   "cell_type": "code",
   "execution_count": 38,
   "id": "48c0eaac-f143-463a-a6b4-9b70d29c598a",
   "metadata": {},
   "outputs": [
    {
     "data": {
      "text/plain": [
       "UPENN_ELECSYS_1_GO_2_2017-04-19      2398\n",
       "UPENN_ELECSYS_3_Bt1_2019-07-29       498 \n",
       "UPENN_ELECSYS_1_GO_2_3_2021-01-04    216 \n",
       "Name: source, dtype: int64"
      ]
     },
     "execution_count": 38,
     "metadata": {},
     "output_type": "execute_result"
    }
   ],
   "source": [
    "CSF_ALL.source.value_counts()"
   ]
  },
  {
   "cell_type": "code",
   "execution_count": 31,
   "id": "16cd2513-367e-4890-ba6a-1868b6b9d95a",
   "metadata": {
    "hidden": true,
    "slideshow": {
     "slide_type": "skip"
    }
   },
   "outputs": [],
   "source": [
    "CSF_ALL = CSF_ALL[['RID', 'VISCODE', 'CSF_AB42', 'CSF_TAU', 'CSF_PTAU', 'CSF_AB4240']]\n",
    "# CSF_ALL = CSF_ALL.dropna()\n",
    "CSF_ALL['CSF_AB42'] = CSF_ALL['CSF_AB42'].astype(str)\n",
    "CSF_ALL = CSF_ALL[~CSF_ALL['CSF_AB42'].str.startswith('>') &  ~CSF_ALL['CSF_AB42'].str.startswith('<')]\n",
    "CSF_ALL.CSF_AB42 = CSF_ALL.CSF_AB42.astype(float)\n",
    "CSF_ALL['CSF_AB42'] = CSF_ALL.CSF_AB42.apply(lambda x: 1700 if (x >= 1700) else x)\n",
    "CSF_ALL['CSF_TAU'] = CSF_ALL['CSF_TAU'].astype(str)\n",
    "CSF_ALL = CSF_ALL[~CSF_ALL['CSF_TAU'].str.startswith('>') &  ~CSF_ALL['CSF_TAU'].str.startswith('<')]\n",
    "CSF_ALL.CSF_TAU = CSF_ALL.CSF_TAU.astype(float)\n",
    "CSF_ALL['CSF_PTAU'] = CSF_ALL['CSF_PTAU'].astype(str)\n",
    "CSF_ALL = CSF_ALL[~CSF_ALL['CSF_PTAU'].str.startswith('>') &  ~CSF_ALL['CSF_PTAU'].str.startswith('<')]\n",
    "CSF_ALL.CSF_PTAU = CSF_ALL.CSF_PTAU.astype(float)\n",
    "CSF_ALL_AVG = CSF_ALL.groupby(['RID', 'VISCODE'], as_index=False).mean()\n",
    "\n",
    "#checkDuplicates(CSF_ALL_AVG)\n",
    "#CSF_ALL_AVG[CSF_ALL_AVG['RID'] == 96 ]"
   ]
  },
  {
   "cell_type": "code",
   "execution_count": 33,
   "id": "e14581d3-654f-429a-86e3-4df42eae468f",
   "metadata": {},
   "outputs": [
    {
     "data": {
      "text/plain": [
       "(2663, 6)"
      ]
     },
     "execution_count": 33,
     "metadata": {},
     "output_type": "execute_result"
    }
   ],
   "source": [
    "CSF_ALL_AVG.shape"
   ]
  },
  {
   "cell_type": "code",
   "execution_count": 41,
   "id": "5eec13fb-5cb4-431c-9074-f2ef84e69292",
   "metadata": {},
   "outputs": [
    {
     "data": {
      "text/plain": [
       "bl      216\n",
       "m24     56 \n",
       "m48     38 \n",
       "m60     21 \n",
       "m72     19 \n",
       "m132    6  \n",
       "m108    4  \n",
       "m84     4  \n",
       "m96     4  \n",
       "m120    3  \n",
       "m36     1  \n",
       "Name: VISCODE, dtype: int64"
      ]
     },
     "execution_count": 41,
     "metadata": {},
     "output_type": "execute_result"
    }
   ],
   "source": [
    "# 2019-06-21\n",
    "# 2022-11-18\n",
    "# plasma_df = plasma_abeta['BATEMAN_2019-06-21']\n",
    "plasma_df = plasma_abeta['BATEMAN_2022-11-18']\n",
    "df = plasma_df.merge(PET_ABETA, on=['RID', 'VISCODE'], how='inner')\n",
    "df.merge(CSF_ALL_AVG, on=['RID', 'VISCODE'], how='inner')"
   ]
  },
  {
   "cell_type": "markdown",
   "id": "4f28348d-cfc4-43f0-8d2d-c741e4d5eed8",
   "metadata": {
    "slideshow": {
     "slide_type": "skip"
    }
   },
   "source": [
    "##  Plasma\n",
    "* NFL\n",
    "* PTAU"
   ]
  },
  {
   "cell_type": "markdown",
   "id": "15bfd504-7467-49d8-89a5-dcc8d5ae6904",
   "metadata": {
    "heading_collapsed": true,
    "slideshow": {
     "slide_type": "skip"
    }
   },
   "source": [
    "###  Plasma NFL Data"
   ]
  },
  {
   "cell_type": "code",
   "execution_count": 91,
   "id": "d70c918b",
   "metadata": {
    "hidden": true,
    "slideshow": {
     "slide_type": "skip"
    }
   },
   "outputs": [
    {
     "name": "stdout",
     "output_type": "stream",
     "text": [
      "Plasma NFL Sources :  BLENNOWLAB_ADNI_1_2018-10-03, BLENNOWLAB_1_GO_2_2018-10-03\n"
     ]
    }
   ],
   "source": [
    "print('Plasma NFL Sources : ', ', '.join([source for source in plasma_nfl]))\n",
    "PLASMA_NFL = pd.concat([plasma_nfl[f] for f in plasma_nfl])\n",
    "PLASMA_NFL_AVG = PLASMA_NFL.groupby(['RID', 'VISCODE'], as_index=False).mean()"
   ]
  },
  {
   "cell_type": "markdown",
   "id": "f19c1b1d-7fcd-449b-bc01-1c6f1542e7b6",
   "metadata": {
    "heading_collapsed": true,
    "slideshow": {
     "slide_type": "skip"
    }
   },
   "source": [
    "###  Plasma PTAU Data"
   ]
  },
  {
   "cell_type": "code",
   "execution_count": 92,
   "id": "f3d29efe",
   "metadata": {
    "hidden": true,
    "slideshow": {
     "slide_type": "skip"
    }
   },
   "outputs": [],
   "source": [
    "PLASMA_PTAU = plasma_ptau[\"GOTHENBURG_1_GO_2_2020-06-18\"]\n",
    "PLASMA_PTAU_AVG = PLASMA_PTAU.groupby(['RID', 'VISCODE'], as_index=False).mean()"
   ]
  },
  {
   "cell_type": "markdown",
   "id": "7728d13d",
   "metadata": {},
   "source": [
    "## Prepare CDR and GDS"
   ]
  },
  {
   "cell_type": "code",
   "execution_count": 93,
   "id": "044dd112",
   "metadata": {},
   "outputs": [],
   "source": [
    "gds_df = dataframes['NEUROPSYCH']['GDS']['ALL']['df'][['RID', 'VISCODE2', 'GDTOTAL']]\n",
    "gds_df.columns = ['RID', 'VISCODE', 'GDTOTAL']\n",
    "cdr_df = dataframes['NEUROPSYCH']['CDR']['ALL']['df'][['RID', 'VISCODE2', 'CDGLOBAL']]\n",
    "cdr_df.columns = ['RID', 'VISCODE', 'CDGLOBAL']\n",
    "gds_df['VISCODE'].replace('sc', 'bl', inplace=True)\n",
    "cdr_df['VISCODE'].replace('sc', 'bl', inplace=True)"
   ]
  },
  {
   "cell_type": "markdown",
   "id": "a981d757",
   "metadata": {
    "slideshow": {
     "slide_type": "skip"
    },
    "tags": []
   },
   "source": [
    "# ADNIMERGE Preprocessing and Preparation\n",
    "\n",
    " - Consider subjects with at least one followup and the followup visits of months - 6, 12, 24, 36, 48, 60\n",
    " - Exclude the ones with NULL Diagnosis"
   ]
  },
  {
   "cell_type": "markdown",
   "id": "c25dda0f-8794-4652-b365-57e9b0213667",
   "metadata": {
    "tags": []
   },
   "source": [
    "## Utility methods"
   ]
  },
  {
   "cell_type": "code",
   "execution_count": 94,
   "id": "71732673-d277-4fce-9c2b-f15e04ce6aaa",
   "metadata": {},
   "outputs": [],
   "source": [
    "def getNulls(df) :\n",
    "    df = df.isna().sum().reset_index(name='nulls')\n",
    "    return df[df['nulls'] > 0]\n",
    "\n",
    "def cnchange(x) :\n",
    "    if x['DX_bl'] in ['CN', 'SMC'] :\n",
    "        if x[\"DX\"] == \"CN\"  :\n",
    "            return 0\n",
    "        else : return 1\n",
    "    else : return -1\n",
    "\n",
    "def adchange(x) :\n",
    "    if (x['DX_bl'] == 'AD') :\n",
    "        if x[\"DX\"] == \"Dementia\"  :\n",
    "            return 0\n",
    "        else : return 1\n",
    "    else : return -1\n",
    "\n",
    "def mcitodemchange(x) :\n",
    "    if x['DX_bl'] in ['LMCI', 'EMCI'] :\n",
    "        if x[\"DX\"] == \"Dementia\"  :\n",
    "            return 1\n",
    "        else : return 0\n",
    "    else : return -1"
   ]
  },
  {
   "cell_type": "markdown",
   "id": "0bd2c2c2",
   "metadata": {},
   "source": [
    "## Map Diagnosis"
   ]
  },
  {
   "cell_type": "markdown",
   "id": "9fea266f",
   "metadata": {},
   "source": [
    "### Drop rows with DX Null\n",
    " - This way, if DX_bl = AD and DX_1stfollow = Null, this participant is not considered even though DX_bl could've been used for training AD+ ?"
   ]
  },
  {
   "cell_type": "code",
   "execution_count": 95,
   "id": "c1a9e138",
   "metadata": {},
   "outputs": [],
   "source": [
    "ADM = ADNIMERGE.copy()\n",
    "ADM = ADM.dropna(subset=['DX'])\n",
    "derived_fields = []"
   ]
  },
  {
   "cell_type": "code",
   "execution_count": 96,
   "id": "6e0f318f",
   "metadata": {},
   "outputs": [],
   "source": [
    "dx_bl_mapping = pd.DataFrame({\n",
    "    'dx': ['CN', 'SMC', 'EMCI', 'MCI', 'LMCI', 'AD', 'Dementia'],\n",
    "    'prog': ['CN', 'CN', 'MCI', 'MCI', 'MCI', 'Dementia', 'Dementia']\n",
    "})\n",
    "\n",
    "sort_mapping = dx_bl_mapping.reset_index().set_index('dx')\n",
    "ADM['DX_bl_std'] = ADM['DX_bl'].map(sort_mapping['prog'])\n",
    "derived_fields.append('DX_bl_std')"
   ]
  },
  {
   "cell_type": "markdown",
   "id": "1f16734b",
   "metadata": {},
   "source": [
    "### Keeping only those with at least one followup\n"
   ]
  },
  {
   "cell_type": "code",
   "execution_count": 97,
   "id": "a190c534",
   "metadata": {
    "code_folding": [],
    "slideshow": {
     "slide_type": "skip"
    }
   },
   "outputs": [],
   "source": [
    "ADM = ADM[ADM.duplicated(['RID'], keep=False)]\n",
    "ADM['VS_MONTH_CURR'] = ADM.VS_MONTH.apply(lambda x: 1 if (x == 6) or (x <= 60 and x%12 == 0) else 0)\n",
    "ADM = ADM[ADM['VS_MONTH_CURR'] == 1 ]\n",
    "ADM = ADM.drop('VS_MONTH_CURR', axis=1)\n"
   ]
  },
  {
   "cell_type": "markdown",
   "id": "9811e87c",
   "metadata": {},
   "source": [
    "## Prepare Disease Progression fields"
   ]
  },
  {
   "cell_type": "code",
   "execution_count": 98,
   "id": "3f95d7ba",
   "metadata": {},
   "outputs": [],
   "source": [
    "ADM['CN_CHANGE'] = ADM.apply(lambda x : cnchange(x), axis=1)\n",
    "ADM['AD_CHANGE'] = ADM.apply(lambda x : adchange(x), axis=1)\n",
    "ADM['MCI_DEM_CHANGE'] = ADM.apply(lambda x : mcitodemchange(x), axis=1)\n",
    "derived_fields.append('CN_CHANGE')\n",
    "derived_fields.append('AD_CHANGE')\n",
    "derived_fields.append('MCI_DEM_CHANGE')\n",
    "getNulls(ADM);"
   ]
  },
  {
   "cell_type": "markdown",
   "id": "2022dcef",
   "metadata": {},
   "source": [
    "## Marital status"
   ]
  },
  {
   "cell_type": "code",
   "execution_count": null,
   "id": "e6f2ef25",
   "metadata": {},
   "outputs": [],
   "source": [
    "ADM['PTMARRY_orig'] = ADM['PTMARRY']\n",
    "ADM['PTMARRY'] = (ADM['PTMARRY_orig'] == 'Married')\n",
    "ADM['PTMARRY'] = ADM['PTMARRY'].astype(int)"
   ]
  },
  {
   "cell_type": "markdown",
   "id": "6110272d",
   "metadata": {},
   "source": [
    "## Add max follow up for each RID"
   ]
  },
  {
   "cell_type": "code",
   "execution_count": 99,
   "id": "343cc7b5",
   "metadata": {},
   "outputs": [],
   "source": [
    "max_month = ADM.groupby(\"RID\")[\"VS_MONTH\"].max().reset_index()\n",
    "ADM = ADM.merge(max_month, how=\"left\", on='RID', suffixes=[None, '_MAX'])\n",
    "derived_fields.append('VS_MONTH_MAX')"
   ]
  },
  {
   "cell_type": "markdown",
   "id": "e29ff3f3",
   "metadata": {
    "slideshow": {
     "slide_type": "skip"
    }
   },
   "source": [
    "# Merge ADNIMERGE and Biomarkers"
   ]
  },
  {
   "cell_type": "code",
   "execution_count": 100,
   "id": "68be2c87",
   "metadata": {
    "slideshow": {
     "slide_type": "skip"
    }
   },
   "outputs": [],
   "source": [
    "def getADNICombined(base_fields_of_interest) :\n",
    "    ADM_5YR = ADM[base_fields_of_interest + derived_fields]\n",
    "    ADM_5YR = ADM_5YR.merge(gds_df, how='left', on=[\"RID\", \"VISCODE\"])\n",
    "    ADM_5YR = ADM_5YR.merge(cdr_df, how='left', on=[\"RID\", \"VISCODE\"])\n",
    "\n",
    "    ADM_5YR_PET = ADM_5YR.merge(PET_ABETA[[\"RID\", \"VISCODE\", \"PET_SUVR_ABETA\", \"ABP\", \"ABP_HIGH\"]], how='left', on=[\"RID\", \"VISCODE\"])\n",
    "    #getNulls(ADM_COMBINED)\n",
    "    ADM_5YR_COMBINED = ADM_5YR_PET.merge(MRI_ICV_NORMALISED, how='left', on=[\"RID\", \"VISCODE\"])\n",
    "\n",
    "    ADM_5YR_COMBINED = ADM_5YR_COMBINED.merge(CSF_ALL_AVG, how='left', on=[\"RID\", \"VISCODE\"])\n",
    "\n",
    "    ADM_5YR_COMBINED = ADM_5YR_COMBINED.merge(PLASMA_NFL_AVG, how='left', on=[\"RID\", \"VISCODE\"])\n",
    "\n",
    "    ADM_5YR_COMBINED = ADM_5YR_COMBINED.merge(PLASMA_PTAU_AVG, how='left', on=[\"RID\", \"VISCODE\"])\n",
    "    getNulls(ADM_5YR_COMBINED);\n",
    "    print('ADNIMERGE + Biomarkers, shape :', ADM_5YR_COMBINED.shape)\n",
    "    return ADM_5YR_COMBINED"
   ]
  },
  {
   "cell_type": "code",
   "execution_count": 101,
   "id": "8cedca2e",
   "metadata": {},
   "outputs": [
    {
     "data": {
      "text/markdown": [
       "*Use the following dataframe*"
      ],
      "text/plain": [
       "<IPython.core.display.Markdown object>"
      ]
     },
     "metadata": {},
     "output_type": "display_data"
    }
   ],
   "source": [
    "display(Markdown('*Use the following dataframe*'))"
   ]
  },
  {
   "cell_type": "code",
   "execution_count": 104,
   "id": "fddeb972",
   "metadata": {},
   "outputs": [
    {
     "data": {
      "text/markdown": [
       "`getADNICombined(base_fields_of_interest)`"
      ],
      "text/plain": [
       "<IPython.core.display.Markdown object>"
      ]
     },
     "metadata": {},
     "output_type": "display_data"
    }
   ],
   "source": [
    "display(Markdown('`getADNICombined(base_fields_of_interest)`'))"
   ]
  },
  {
   "cell_type": "code",
   "execution_count": null,
   "id": "44660404",
   "metadata": {},
   "outputs": [],
   "source": []
  }
 ],
 "metadata": {
  "finalized": {
   "timestamp": 1662498021259,
   "trusted": true
  },
  "kernelspec": {
   "display_name": "Python 3 (ipykernel)",
   "language": "python",
   "name": "python3"
  },
  "language_info": {
   "codemirror_mode": {
    "name": "ipython",
    "version": 3
   },
   "file_extension": ".py",
   "mimetype": "text/x-python",
   "name": "python",
   "nbconvert_exporter": "python",
   "pygments_lexer": "ipython3",
   "version": "3.9.4"
  },
  "toc": {
   "base_numbering": 1,
   "nav_menu": {
    "height": "160px",
    "width": "240px"
   },
   "number_sections": true,
   "sideBar": true,
   "skip_h1_title": false,
   "title_cell": "Table of Contents",
   "title_sidebar": "Contents",
   "toc_cell": false,
   "toc_position": {
    "height": "calc(100% - 180px)",
    "left": "10px",
    "top": "150px",
    "width": "302.4px"
   },
   "toc_section_display": true,
   "toc_window_display": true
  },
  "toc-showmarkdowntxt": true
 },
 "nbformat": 4,
 "nbformat_minor": 5
}
