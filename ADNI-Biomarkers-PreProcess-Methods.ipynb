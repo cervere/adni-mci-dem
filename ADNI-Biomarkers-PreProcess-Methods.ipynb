{
 "cells": [
  {
   "cell_type": "markdown",
   "id": "c25dda0f-8794-4652-b365-57e9b0213667",
   "metadata": {
    "tags": []
   },
   "source": [
    "# Model definitions"
   ]
  },
  {
   "cell_type": "code",
   "execution_count": 2,
   "id": "1ef9f57b",
   "metadata": {},
   "outputs": [],
   "source": [
    "def ADNIdemographics(subset, continuous, categorical, category_field = \"DX_bl_std\", debug=False) :\n",
    "    total = subset.describe()\n",
    "    diag_cats = subset[category_field].unique()\n",
    "    header = np.array(['All Participants'])\n",
    "    header = np.concatenate((header, np.array(diag_cats)))\n",
    "    header = np.concatenate((header, np.array([\"P-value\", \"F-Statistic\", \"Cramer's V\", \"Pearson\"])))\n",
    "    mux = pd.MultiIndex.from_arrays([[],[]], \n",
    "                                      names=['', ''])\n",
    "    table = pd.DataFrame(columns=header, index=mux)\n",
    "    emptyRow = {\"All Participants\" : \"\"}\n",
    "    for cat in diag_cats :\n",
    "        emptyRow[cat] = ''\n",
    "\n",
    "    ### First counts row\n",
    "    totalRow = emptyRow.copy()\n",
    "    totalcnt = len(subset.index)\n",
    "    totalRow[\"All Participants\"] = totalcnt\n",
    "    totalByAlcohol = subset.groupby([category_field]).describe()\n",
    "    for cat in diag_cats :\n",
    "        cnt = totalByAlcohol['AGE'].loc[(cat)][\"count\"]\n",
    "        totalRow[cat] = '%d(%.f)'%(cnt, 100*cnt/totalcnt)\n",
    "    table = pd.concat([table, pd.DataFrame(totalRow, columns=header, index = [[''], ['Count']])])\n",
    "    \n",
    "    ### Continuous Variables\n",
    "    basic_characteristics = continuous \n",
    "    alcoholField = 'C(' +category_field  +')'\n",
    "#     alcoholField = 'ALCOHOL'\n",
    "    for characteristic in basic_characteristics :\n",
    "        a = rp.summary_cont(subset.groupby([category_field])[characteristic])\n",
    "        totalRow = emptyRow.copy()\n",
    "        totalRow[\"All Participants\"] = '%.1f(%.1f)'%(total[characteristic].loc['mean'], total[characteristic].loc['std'])\n",
    "        for cat in diag_cats :\n",
    "            totalRow[cat] = '%.1f(%.1f)'%(a.loc[(cat)][\"Mean\"], a.loc[(cat)][\"SD\"])\n",
    "        model = smf.ols( characteristic + '~ ' +  alcoholField, data=subset).fit()\n",
    "        aov_table = sm.stats.anova_lm(model, typ=2)\n",
    "        pvalue = aov_table.loc[alcoholField][\"PR(>F)\"]\n",
    "        totalRow[\"P-value\"] = roundPValue(pvalue)#'%.3f'%(pvalue)\n",
    "        totalRow[\"F-Statistic\"] = '%.3f'%(aov_table.loc[alcoholField][\"F\"])\n",
    "        table = pd.concat([table, pd.DataFrame(totalRow, columns=header, index = [ [''], [display(characteristic)]])])\n",
    "    \n",
    "    ### Fields with Categories\n",
    "    fieldsWithCategories = categorical #['PTGENDER', 'ETHNICRACE', 'PTMARRY', 'APOE4']\n",
    "    countByAlcohol = subset.groupby([category_field]).count()['RID']\n",
    "    for field in fieldsWithCategories : \n",
    "        countByRace = subset.groupby([field]).count()['RID']\n",
    "        countByRaceAndAlcohol = subset.groupby([category_field, field]).count()['RID']\n",
    "        crosstab, test_results, expected = rp.crosstab(subset[field], subset[category_field],\n",
    "                                                   test= \"chi-square\",\n",
    "                                                   expected_freqs= True,\n",
    "                                                   prop= \"cell\")\n",
    "        overallPvalue = test_results.loc[1][\"results\"]\n",
    "        totalRow = emptyRow.copy()\n",
    "        totalRow[\"P-value\"] = roundPValue(overallPvalue)#'%.3f'%(overallPvalue)\n",
    "        totalRow[\"Pearson\"] = '%.3f'%(test_results.loc[0][\"results\"])\n",
    "        totalRow[\"Cramer's V\"] = '%.3f'%(test_results.loc[2][\"results\"])\n",
    "        table = pd.concat([table, pd.DataFrame(totalRow, columns=header, index = [[display(field)], [display(field)]])])\n",
    "        for race in countByRaceAndAlcohol.index.levels[1] : \n",
    "            totalRow = emptyRow.copy()\n",
    "            totalRow [\"All Participants\"] = '%d(%d)'%(countByRace.loc[(race)], 100*countByRace.loc[(race)]/len(subset.index))\n",
    "            for alcoholcat in countByRaceAndAlcohol.index.levels[0] : \n",
    "                if race in countByRaceAndAlcohol.xs(alcoholcat, level=0, axis=0).index :\n",
    "                    cnt = countByRaceAndAlcohol[(alcoholcat, race)]\n",
    "                    pct = (cnt/countByAlcohol.loc[(alcoholcat)])*100\n",
    "                    totalRow[alcoholcat] = '%d(%d)'%(cnt, pct)\n",
    "#                 else :\n",
    "#                     totalRow[alcoholcat] = '-'\n",
    "            table = pd.concat([table, pd.DataFrame(totalRow, columns=header, index = [[display(field)], [race]])])\n",
    "    return table"
   ]
  },
  {
   "cell_type": "markdown",
   "id": "63930273",
   "metadata": {},
   "source": [
    "## Infographic Data with counts"
   ]
  },
  {
   "cell_type": "code",
   "execution_count": 3,
   "id": "c7f9b738",
   "metadata": {},
   "outputs": [],
   "source": [
    "def printStudyCharacteristics(df, FOLLOWUP_MONTH, ABP_field) :\n",
    "    data = {\"metric\" : [], \"count\" : []}\n",
    "    addAndPrint(data, 'Participants with at least one follow-up : ', df.groupby('RID').count().shape[0])\n",
    "    totalCN = df[df.DX_bl.isin(['CN', 'SMC']) & (df.VISCODE == 'bl')].shape[0]\n",
    "    addAndPrint(data, 'CN Total (Baseline) : ', totalCN)\n",
    "    addAndPrint(data, 'AD Total (Baseline): ', df[df.DX_bl.isin(['AD']) & (df.VISCODE == 'bl')].shape[0])\n",
    "    addAndPrint(data, 'MCI Total (Baseline) : ', df[df.DX_bl.isin(['EMCI', 'LMCI']) & (df.VISCODE == 'bl')].shape[0])\n",
    "    df_cn_fu = ADM_CN_BL.dropna(subset=['CN_S_'+str(FOLLOWUP_MONTH)])\n",
    "#     two_yrCN = df[df.DX_bl.isin(['CN', 'SMC']) & (df.VISCODE == 'bl')].dropna(subset=['CN_S_'+str(FOLLOWUP_MONTH)]).shape[0]\n",
    "    addAndPrint(data, 'CN Total ({} yr. followup) : '.format(FOLLOWUP_MONTH/12), df_cn_fu.shape[0])\n",
    "    stableCN = df_cn_fu[df_cn_fu['CN_S_'+str(FOLLOWUP_MONTH)] == True]\n",
    "    addAndPrint(data, 'CN Stable ({} yr. followup): '.format(FOLLOWUP_MONTH/12), stableCN.shape[0])\n",
    "    addAndPrint(data, 'CN Decline : ', df_cn_fu.shape[0] - stableCN.shape[0])\n",
    "    df_ad = df.groupby('RID')['AD_CHANGE'].sum().reset_index(name='count')\n",
    "    df_0 = df_ad[['RID', 'count']][df_ad['count'] == 0]\n",
    "    addAndPrint(data, 'Dementia Remain : ', ADM_AD_BL.shape[0])\n",
    "    df_AD_BL = df[(df.DX_bl == \"AD\") & (df.VS_MONTH == 0)].merge(df_0, on=['RID'])\n",
    "    df_AD_BL = df_AD_BL.drop('count', axis=1)[(df_AD_BL[ABP_field] == 1)]\n",
    "    #     ADM_AD = ADM_AD.dropna()\n",
    "    addAndPrint(data, 'Dementia Remain, AB+ : ', ADM_AD_BL[ADM_AD_BL[ABP_field] == 1].shape[0])\n",
    "    df_1 = df_ad[['RID', 'count']][df_ad['count'] > 0]\n",
    "    addAndPrint(data, 'AD Reverse : ', df_1.shape[0])\n",
    "    df_mci = ADM_MCI.dropna(subset=['ABP_DEM_'+str(FOLLOWUP_MONTH)])\n",
    "    addAndPrint(data, 'MCI Total ({} yr. followup) : '.format(FOLLOWUP_MONTH/12), df_mci.shape[0])\n",
    "    mciDecline = df_mci[df_mci['ABP_DEM_'+str(FOLLOWUP_MONTH)] == 1].shape[0]\n",
    "    addAndPrint(data, 'MCI Remain/Improve ({} yr.) : '.format(FOLLOWUP_MONTH/12), df_mci.shape[0] - mciDecline)\n",
    "    # df_1 = df_mci[['RID', 'count']][df_mci['count'] > 0]\n",
    "    addAndPrint(data, 'MCI Decline : ', mciDecline)\n",
    "\n",
    "    return pd.DataFrame(data)\n",
    "\n"
   ]
  },
  {
   "cell_type": "markdown",
   "id": "d85b4ed7",
   "metadata": {},
   "source": [
    "# General Utils"
   ]
  },
  {
   "cell_type": "code",
   "execution_count": 4,
   "id": "71732673-d277-4fce-9c2b-f15e04ce6aaa",
   "metadata": {},
   "outputs": [],
   "source": [
    "def getNulls(df) :\n",
    "    df = df.isna().sum().reset_index(name='nulls')\n",
    "    return df[df['nulls'] > 0]\n",
    "\n",
    "def addAndPrint(data, key, value):\n",
    "    data[\"metric\"].append(key.strip().strip(':'))\n",
    "    data[\"count\"].append(value)\n",
    "    # print(key, value)\n",
    "    \n",
    "def roundPValue(p):\n",
    "    if p < 0.01 :\n",
    "        return round(p, 3)\n",
    "    else:\n",
    "        return round(p, 2)\n",
    "\n"
   ]
  },
  {
   "cell_type": "code",
   "execution_count": 5,
   "id": "039e6b07",
   "metadata": {},
   "outputs": [],
   "source": [
    "def display(c) :\n",
    "    d_ = {\n",
    "        \"AGE\" : \"Age, mean(SD), y\",\n",
    "        \"PTEDUCAT\" : \"Years of Education, mean(SD), y\",\n",
    "        \"PTGENDER\" : \"Gender\",\n",
    "        \"FEMALE\" : \"Female\",\n",
    "        \"MALE\" : \"Male\",\n",
    "        \"PTRACE\" : \"Race\",\n",
    "        \"PTMARRY\" : \"Marital Status\", \n",
    "        \"NEVERMARRIED\" : \"Never Married\", \n",
    "        \"PTETHNIC\" : \"Ethnicity\", \n",
    "        \"ETHNICRACE\" : \"Race / Ethnicity\", \n",
    "        \"PTNOTRT\" : \"Retired\",\n",
    "        \"APOEGN\" : \"APOE Genotype\",\n",
    "        \"APOE4\" : \"APOE ε4 allele(s), > 0\",\n",
    "        \"DIGITTOTAL\" : \"DSST\",\n",
    "        \"FreeRecall\" : \"FCSRT Free Recall\",\n",
    "        \"TotalRecall\" : \"FCSRT Total Recall\",\n",
    "        \"TotalRecall_48\" : \"Total Recall = 48\" ,\n",
    "        \"FCSRT96\": \"FCSRT96\",\n",
    "        \"MMSCORE\" : \"MMSE\",\n",
    "        \"MMSCORE_29\" : \"MMSE Score = 29\",\n",
    "        \"LDELTOTAL\" : \"Logical Memory Delayed Recall\",\n",
    "        \"PACC_MMSE\" : \"PACC MMSE\",\n",
    "        \"PACC_total\" : \"PACC Score\",\n",
    "        \"CFIPTTOTAL\" : \"CFI Score, Participant\",\n",
    "        \"CFISPTOTAL\" : \"CFI Score, Study Partner\",\n",
    "        \"GDTOTAL\" : \"GDS Score\",\n",
    "        \"SLEEPDAY\" : \"Day time nap, minutes\",\n",
    "        \"RAVLT_immediate\" : \"RAVLT Immediate\" ,\n",
    "        \"RAVLT_learning\" : \"RAVLT Learning\",\n",
    "        \"RAVLT_forgetting\" :  \"RAVLT Forgetting\",\n",
    "        \"ADAS11\" : \"ADAS(cog, 11)\",\n",
    "        \"TRABSCOR\" : \"Trail (B)\",\n",
    "        \"VOL_HIPPOCAMPUS\" : \"HVa\",\n",
    "        \"PLASMA_NFL\" : \"Plasma NFL\",\n",
    "        \"PLASMA_PTAU\" : \"Plasma pTau\",\n",
    "        \"CSF_TAU\" : \"CSF Tau\",\n",
    "        \"CSF_PTAU\" : \"CSF pTau\",\n",
    "        \"CSF_AB42\" : \"CSF Aβ-42\"\n",
    "    }\n",
    "    \n",
    "    return d_[c] if c in d_ else c\n"
   ]
  },
  {
   "cell_type": "markdown",
   "id": "df659952",
   "metadata": {
    "slideshow": {
     "slide_type": "skip"
    }
   },
   "source": [
    "# Prepare Datasets"
   ]
  },
  {
   "cell_type": "markdown",
   "id": "6f0bf55b",
   "metadata": {},
   "source": [
    "## Fix the numbers for non-CS stable, MCI 0-class\n",
    " \n",
    " - problem: CS-stable = True no problem\n",
    " - But for an RID: if MX_VS_MONTH = 12, then CS_S_24 should be Nan, not False"
   ]
  },
  {
   "cell_type": "markdown",
   "id": "6c77fe94",
   "metadata": {},
   "source": [
    "## Add CN-stable by followup fields"
   ]
  },
  {
   "cell_type": "code",
   "execution_count": 1,
   "id": "f5409f8a",
   "metadata": {},
   "outputs": [],
   "source": [
    "def getCNBLData(adm_):\n",
    "    ADM_CN = adm_[adm_.DX_bl.isin(['CN', 'SMC'])]\n",
    "    ADM_CN_BL = ADM_CN[ADM_CN.VS_MONTH == 0]\n",
    "    ADM_CN_FOL = ADM_CN[ADM_CN.VS_MONTH > 0]\n",
    "    stable_df = pd.DataFrame(adm_.RID.unique())\n",
    "    stable_df.columns=['RID']\n",
    "    followup_months = [month for month in adm_[\"VS_MONTH\"].unique() if month > 0]\n",
    "    for month in followup_months :\n",
    "        adm_cn_month = ADM_CN_FOL[ADM_CN_FOL[\"VS_MONTH\"] == month]\n",
    "        DX_month_field = \"CN_S_\"+str(month)\n",
    "        adm_cn_month[DX_month_field] = (adm_cn_month[\"CN_CHANGE\"] == 0)\n",
    "        adm_cn_month[DX_month_field] = adm_cn_month[DX_month_field].astype(int)\n",
    "        ADM_CN_BL = ADM_CN_BL.merge(adm_cn_month[['RID', DX_month_field]], how='left', on=['RID'])\n",
    "\n",
    "#         df = adm_[(adm_.VS_MONTH <= month) & (adm_.VS_MONTH_MAX >= month)]\\\n",
    "#                 .groupby('RID')['CN_CHANGE'].sum()\\\n",
    "#                 .reset_index(name='count')\n",
    "#         df[\"CN_S_\"+str(month)] = (df[\"count\"] == 0)\n",
    "#         df.drop(columns=['count'], inplace=True)\n",
    "#         stable_df = stable_df.merge(df, how='left')\n",
    "    return ADM_CN_BL#.merge(stable_df, how=\"left\", on='RID')"
   ]
  },
  {
   "cell_type": "markdown",
   "id": "e7b21f25",
   "metadata": {
    "slideshow": {
     "slide_type": "skip"
    }
   },
   "source": [
    "## MCI data with follow-up columns"
   ]
  },
  {
   "cell_type": "code",
   "execution_count": 2,
   "id": "33fd4245",
   "metadata": {
    "slideshow": {
     "slide_type": "skip"
    }
   },
   "outputs": [],
   "source": [
    "def getMCIData(adm_, ABP_field, month = None) :\n",
    "    ADM_MCI = adm_[adm_['MCI_DEM_CHANGE'] >= 0]\n",
    "    ADM_MCI_BL = ADM_MCI[ADM_MCI.VS_MONTH == 0]\n",
    "    ADM_MCI_FOL = ADM_MCI[ADM_MCI.VS_MONTH > 0]\n",
    "    abp = {0: \"Aβ-\", 1: \"Aβ+\"}\n",
    "    ADM_MCI_BL['ABP_cat'] = ADM_MCI_BL[ABP_field].map(abp)  \n",
    "    ADM_MCI_BL.ABP_cat = ADM_MCI_BL.ABP_cat.astype('category')\n",
    "    for month in ADM_MCI_FOL[\"VS_MONTH\"].unique() :\n",
    "        adm_mci_month = ADM_MCI_FOL[ADM_MCI_FOL[\"VS_MONTH\"] == month]\n",
    "        DX_month_field = \"ABP_DEM_\"+str(month)\n",
    "        adm_mci_month[DX_month_field] = (adm_mci_month[\"MCI_DEM_CHANGE\"] == 1)\n",
    "        adm_mci_month[DX_month_field] = adm_mci_month[DX_month_field].astype(int)\n",
    "        ADM_MCI_BL = ADM_MCI_BL.merge(adm_mci_month[['RID', DX_month_field]], how='left', on=['RID'])\n",
    "    return ADM_MCI_BL"
   ]
  },
  {
   "cell_type": "markdown",
   "id": "b30c3c6c",
   "metadata": {},
   "source": [
    "## Train and Test Datasets"
   ]
  },
  {
   "cell_type": "code",
   "execution_count": 25,
   "id": "41b416bf",
   "metadata": {
    "slideshow": {
     "slide_type": "skip"
    }
   },
   "outputs": [],
   "source": [
    "def getAD_BL(adm_) :\n",
    "    df = adm_.groupby('RID')['AD_CHANGE'].sum().reset_index(name='count')\n",
    "    df_0 = df[df['count'] == 0]\n",
    "    ADM_AD_BL = adm_[(adm_.DX_bl == \"AD\") & (adm_.VS_MONTH == 0)].merge(df_0, on=['RID'])\n",
    "    ADM_AD_BL = ADM_AD_BL.drop('count', axis=1)\n",
    "#     ADM_AD = ADM_AD.dropna()\n",
    "    print('AD Remain : ', ADM_AD_BL.shape[0])\n",
    "    return ADM_AD_BL\n",
    "\n",
    "def getCNandABP_ADTrain(cn_bl, ad_bl, ABP_field, follow_up_month=60) :\n",
    "    ADM_ABP_DEM = ad_bl[(ad_bl[ABP_field] == 1)]\n",
    "#     ADM_ABP_DEM = ADM_ABP_DEM.dropna()\n",
    "    ADM_ABP_DEM[\"ABP_DEM\"] = 1\n",
    "    # ADM_ABP_DEM = ADM_ABP_DEM.drop(ABP_field, axis=1)\n",
    "    ADM_CN_S = cn_bl.dropna(subset=['CN_S_'+str(follow_up_month)]).drop(columns=cn_bl.columns[cn_bl.columns.str.contains('CN_S_')])\n",
    "    ADM_CN_S[\"ABP_DEM\"] = 0\n",
    "    # ADM_CN_S = ADM_CN_S.drop(ABP_field, axis=1)\n",
    "\n",
    "#     print('AB Positive (%) : ', 100 * ADM_AD_BL.groupby(\"ABP\").count()[\"RID\"][1]/(ADM_AD_BL.groupby(\"ABP\").count()[\"RID\"].sum()))\n",
    "    return pd.concat([ADM_ABP_DEM, ADM_CN_S], ignore_index=True)\n"
   ]
  },
  {
   "cell_type": "code",
   "execution_count": null,
   "id": "ccf4818a",
   "metadata": {},
   "outputs": [],
   "source": []
  }
 ],
 "metadata": {
  "finalized": {
   "timestamp": 1662498036313,
   "trusted": true
  },
  "kernelspec": {
   "display_name": "Python 3 (ipykernel)",
   "language": "python",
   "name": "python3"
  },
  "language_info": {
   "codemirror_mode": {
    "name": "ipython",
    "version": 3
   },
   "file_extension": ".py",
   "mimetype": "text/x-python",
   "name": "python",
   "nbconvert_exporter": "python",
   "pygments_lexer": "ipython3",
   "version": "3.9.4"
  },
  "toc": {
   "base_numbering": 1,
   "nav_menu": {
    "height": "160px",
    "width": "240px"
   },
   "number_sections": true,
   "sideBar": true,
   "skip_h1_title": false,
   "title_cell": "Table of Contents",
   "title_sidebar": "Contents",
   "toc_cell": false,
   "toc_position": {
    "height": "calc(100% - 180px)",
    "left": "10px",
    "top": "150px",
    "width": "209.4px"
   },
   "toc_section_display": true,
   "toc_window_display": false
  },
  "toc-showmarkdowntxt": true
 },
 "nbformat": 4,
 "nbformat_minor": 5
}
