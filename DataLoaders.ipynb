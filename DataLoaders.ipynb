{
 "cells": [
  {
   "cell_type": "markdown",
   "id": "5b4d06f3-4acc-4223-b147-a21e7f2276b5",
   "metadata": {},
   "source": [
    "# Load raw data into dataframes"
   ]
  },
  {
   "cell_type": "code",
   "execution_count": 1,
   "id": "b1e556eb-b336-4740-91fd-f6d36a284a79",
   "metadata": {},
   "outputs": [],
   "source": [
    "import os\n",
    "from pathlib import Path\n",
    "from IPython.display import display, Markdown, Latex\n",
    "import numpy as np"
   ]
  },
  {
   "cell_type": "code",
   "execution_count": 12,
   "id": "866bb411-289e-4fbf-b317-c1a8c586f8a4",
   "metadata": {},
   "outputs": [],
   "source": [
    "def getParents(x) :\n",
    "        levels = []\n",
    "        d = Path(x)\n",
    "        if not d.is_dir() : d = d.parent\n",
    "        while d.stem != 'raw' :\n",
    "            levels.append(d.stem)\n",
    "            d = d.parent\n",
    "        levels.reverse()\n",
    "        return np.array(levels)\n"
   ]
  },
  {
   "cell_type": "code",
   "execution_count": 16,
   "id": "c09c7e1a-ea42-45ef-b9e8-aebc2ade818d",
   "metadata": {},
   "outputs": [],
   "source": [
    "def loadCSVtoDF(path, dataframes) :\n",
    "    if path.name.startswith('.') : \n",
    "        return\n",
    "    for x in path.glob('*') :\n",
    "        if x.is_dir() : \n",
    "            loadCSVtoDF(x, dataframes)\n",
    "        elif '.csv' in x.name :\n",
    "            try :\n",
    "                levels = getParents(x)\n",
    "                dataset, marker, file = levels\n",
    "                df = pd.read_csv(x, low_memory=False)\n",
    "                if dataset not in dataframes : dataframes[dataset] = {}\n",
    "                if marker not in dataframes[dataset] : dataframes[dataset][marker] = {}\n",
    "                if file not in dataframes[dataset][marker] : dataframes[dataset][marker][file] = {}\n",
    "                if '_dict' in x.name.lower() :\n",
    "                    dataframes[dataset][marker][file][\"dict\"] = df\n",
    "                    #print('->'.join(levels), 'DICT :: ', x.name) \n",
    "                else :\n",
    "                    dataframes[dataset][marker][file][\"df\"] = df\n",
    "            except:\n",
    "                print(\"Problem reading files for : \", path)"
   ]
  },
  {
   "cell_type": "code",
   "execution_count": 14,
   "id": "218b1161-11ed-4d65-8052-68eb2f592f0c",
   "metadata": {},
   "outputs": [
    {
     "data": {
      "text/markdown": [
       "Use `loadCSVtoDF` to load data into dataframes from folder: `SOME_DATA_DIR/raw/SOME_DATASET/SOME_MARKER/SOME_LAB` "
      ],
      "text/plain": [
       "<IPython.core.display.Markdown object>"
      ]
     },
     "metadata": {},
     "output_type": "display_data"
    }
   ],
   "source": [
    "display(Markdown('Use `loadCSVtoDF` to load data into dataframes from folder: `SOME_DATA_DIR/raw/SOME_DATASET/SOME_MARKER/SOME_LAB` '))\n"
   ]
  },
  {
   "cell_type": "code",
   "execution_count": 7,
   "id": "79a80d71-b5df-4499-a6b0-d990848e0bd1",
   "metadata": {},
   "outputs": [],
   "source": [
    "def listFiles(path, ext=''):\n",
    "    return [f for f in os.listdir(path) if f.endswith(ext)]"
   ]
  },
  {
   "cell_type": "code",
   "execution_count": 4,
   "id": "71906bab-0c25-4cb6-b811-4fdf572e6cdb",
   "metadata": {},
   "outputs": [],
   "source": [
    "import pandas as pd"
   ]
  },
  {
   "cell_type": "code",
   "execution_count": 14,
   "id": "46642b17-3b21-4aab-a274-4d50b6689227",
   "metadata": {},
   "outputs": [],
   "source": [
    "def loadDFFromExcel(fileName, sheetName='Sheet1') :\n",
    "    '''\n",
    "    Assuming no index column and first row as header\n",
    "    '''\n",
    "    return pd.read_excel(fileName,\n",
    "              sheet_name=sheetName) \n"
   ]
  },
  {
   "cell_type": "markdown",
   "id": "d104834f-54cc-4706-864f-46b0b6ad4dd5",
   "metadata": {},
   "source": [
    "<a id=\"load-all\" />"
   ]
  }
 ],
 "metadata": {
  "kernelspec": {
   "display_name": "Python 3 (ipykernel)",
   "language": "python",
   "name": "python3"
  },
  "language_info": {
   "codemirror_mode": {
    "name": "ipython",
    "version": 3
   },
   "file_extension": ".py",
   "mimetype": "text/x-python",
   "name": "python",
   "nbconvert_exporter": "python",
   "pygments_lexer": "ipython3",
   "version": "3.9.4"
  }
 },
 "nbformat": 4,
 "nbformat_minor": 5
}
